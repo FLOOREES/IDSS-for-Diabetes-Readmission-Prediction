{
 "cells": [
  {
   "cell_type": "markdown",
   "id": "dfe37963-1af6-44fc-a841-8e462443f5e6",
   "metadata": {},
   "source": [
    "## Expert Knowledge Worker\n",
    "\n",
    "### A question answering agent that is an expert knowledge worker\n",
    "### To be used by employees of Insurellm, an Insurance Tech company\n",
    "### The agent needs to be accurate and the solution should be low cost.\n",
    "\n",
    "This project will use RAG (Retrieval Augmented Generation) to ensure our question/answering assistant has high accuracy."
   ]
  },
  {
   "cell_type": "code",
   "execution_count": null,
   "id": "ba2779af-84ef-4227-9e9e-6eaf0df87e77",
   "metadata": {},
   "outputs": [
    {
     "name": "stderr",
     "output_type": "stream",
     "text": [
      "c:\\Users\\lukag\\AppData\\Local\\Programs\\Python\\Python311\\Lib\\site-packages\\tqdm\\auto.py:21: TqdmWarning: IProgress not found. Please update jupyter and ipywidgets. See https://ipywidgets.readthedocs.io/en/stable/user_install.html\n",
      "  from .autonotebook import tqdm as notebook_tqdm\n"
     ]
    }
   ],
   "source": [
    "# imports\n",
    "import os\n",
    "import glob\n",
    "from dotenv import load_dotenv\n",
    "import gradio as gr"
   ]
  },
  {
   "cell_type": "code",
   "execution_count": null,
   "id": "802137aa-8a74-45e0-a487-d1974927d7ca",
   "metadata": {},
   "outputs": [],
   "source": [
    "# imports for langchain\n",
    "\n",
    "from langchain.document_loaders import DirectoryLoader, TextLoader\n",
    "from langchain.text_splitter import CharacterTextSplitter\n",
    "from langchain.schema import Document\n",
    "from langchain.embeddings import HuggingFaceEmbeddings\n",
    "from langchain.vectorstores import Chroma\n",
    "import numpy as np\n",
    "from sklearn.manifold import TSNE\n",
    "import plotly.graph_objects as go\n",
    "from langchain.memory import ConversationBufferMemory\n",
    "from langchain.chains import ConversationalRetrievalChain\n",
    "\n",
    "import google.generativeai as genai\n",
    "from dotenv import load_dotenv\n",
    "\n",
    "\n",
    "\n"
   ]
  },
  {
   "cell_type": "code",
   "execution_count": 4,
   "id": "ee78efcb-60fe-449e-a944-40bab26261af",
   "metadata": {},
   "outputs": [],
   "source": [
    "load_dotenv()\n",
    "api_key = os.getenv(\"gemini_key\")\n",
    "genai.configure(api_key=api_key)\n"
   ]
  },
  {
   "cell_type": "code",
   "execution_count": 5,
   "id": "730711a9-6ffe-4eee-8f48-d6cfb7314905",
   "metadata": {},
   "outputs": [
    {
     "name": "stdout",
     "output_type": "stream",
     "text": [
      "Cargando documento: C:/Users/lukag/OneDrive/Desktop/Universidad/3ero/cuadrimestre2/PAID/github/IDSS-for-Diabetes-Readmission-Prediction/src/agent_2/Diabetes_docs\\20-7-1183.pdf\n",
      "Cargando documento: C:/Users/lukag/OneDrive/Desktop/Universidad/3ero/cuadrimestre2/PAID/github/IDSS-for-Diabetes-Readmission-Prediction/src/agent_2/Diabetes_docs\\21-9-1414.pdf\n",
      "Cargando documento: C:/Users/lukag/OneDrive/Desktop/Universidad/3ero/cuadrimestre2/PAID/github/IDSS-for-Diabetes-Readmission-Prediction/src/agent_2/Diabetes_docs\\654.pdf\n",
      "Cargando documento: C:/Users/lukag/OneDrive/Desktop/Universidad/3ero/cuadrimestre2/PAID/github/IDSS-for-Diabetes-Readmission-Prediction/src/agent_2/Diabetes_docs\\NEJM199309303291401.pdf\n",
      "Cargando documento: C:/Users/lukag/OneDrive/Desktop/Universidad/3ero/cuadrimestre2/PAID/github/IDSS-for-Diabetes-Readmission-Prediction/src/agent_2/Diabetes_docs\\NEJM199311113292004.pdf\n",
      "Cargando documento: C:/Users/lukag/OneDrive/Desktop/Universidad/3ero/cuadrimestre2/PAID/github/IDSS-for-Diabetes-Readmission-Prediction/src/agent_2/Diabetes_docs\\NEJM200105033441801.pdf\n",
      "Cargando documento: C:/Users/lukag/OneDrive/Desktop/Universidad/3ero/cuadrimestre2/PAID/github/IDSS-for-Diabetes-Readmission-Prediction/src/agent_2/Diabetes_docs\\NEJMoa010187.pdf\n",
      "Cargando documento: C:/Users/lukag/OneDrive/Desktop/Universidad/3ero/cuadrimestre2/PAID/github/IDSS-for-Diabetes-Readmission-Prediction/src/agent_2/Diabetes_docs\\NEJMoa0802743.pdf\n",
      "Cargando documento: C:/Users/lukag/OneDrive/Desktop/Universidad/3ero/cuadrimestre2/PAID/github/IDSS-for-Diabetes-Readmission-Prediction/src/agent_2/Diabetes_docs\\NEJMoa0802987.pdf\n",
      "Cargando documento: C:/Users/lukag/OneDrive/Desktop/Universidad/3ero/cuadrimestre2/PAID/github/IDSS-for-Diabetes-Readmission-Prediction/src/agent_2/Diabetes_docs\\s00508-022-02122-y.pdf\n",
      "Se han cargado 108 documentos correctamente.\n"
     ]
    }
   ],
   "source": [
    "from langchain_community.document_loaders import PyMuPDFLoader\n",
    "import glob\n",
    "import os\n",
    "\n",
    "# Ruta al directorio\n",
    "folder = glob.glob(\"C:/Users/lukag/OneDrive/Desktop/Universidad/3ero/cuadrimestre2/PAID/github/IDSS-for-Diabetes-Readmission-Prediction/src/agent_2/Diabetes_docs/\")[0]\n",
    "\n",
    "# Cargar todos los PDFs en ese directorio\n",
    "documents = []\n",
    "for pdf_path in glob.glob(os.path.join(folder, \"*.pdf\")):\n",
    "    print(f\"Cargando documento: {pdf_path}\")\n",
    "    loader = PyMuPDFLoader(pdf_path)\n",
    "    folder_docs = loader.load()\n",
    "    for doc in folder_docs:\n",
    "        doc.metadata[\"doc_type\"] = \"PDF\"\n",
    "        documents.append(doc)\n",
    "\n",
    "print(f\"Se han cargado {len(documents)} documentos correctamente.\")\n"
   ]
  },
  {
   "cell_type": "code",
   "execution_count": 6,
   "id": "7310c9c8-03c1-4efc-a104-5e89aec6db1a",
   "metadata": {},
   "outputs": [],
   "source": [
    "text_splitter = CharacterTextSplitter(chunk_size=1000, chunk_overlap=200)\n",
    "chunks = text_splitter.split_documents(documents)"
   ]
  },
  {
   "cell_type": "code",
   "execution_count": 7,
   "id": "cd06e02f-6d9b-44cc-a43d-e1faa8acc7bb",
   "metadata": {},
   "outputs": [
    {
     "data": {
      "text/plain": [
       "108"
      ]
     },
     "execution_count": 7,
     "metadata": {},
     "output_type": "execute_result"
    }
   ],
   "source": [
    "len(chunks)"
   ]
  },
  {
   "cell_type": "code",
   "execution_count": 8,
   "id": "2c54b4b6-06da-463d-bee7-4dd456c2b887",
   "metadata": {},
   "outputs": [
    {
     "name": "stdout",
     "output_type": "stream",
     "text": [
      "Document types found: PDF\n"
     ]
    }
   ],
   "source": [
    "doc_types = set(chunk.metadata['doc_type'] for chunk in chunks)\n",
    "print(f\"Document types found: {', '.join(doc_types)}\")"
   ]
  },
  {
   "cell_type": "markdown",
   "id": "77f7d2a6-ccfa-425b-a1c3-5e55b23bd013",
   "metadata": {},
   "source": [
    "## A sidenote on Embeddings, and \"Auto-Encoding LLMs\"\n",
    "\n",
    "We will be mapping each chunk of text into a Vector that represents the meaning of the text, known as an embedding.\n",
    "\n",
    "OpenAI offers a model to do this, which we will use by calling their API with some LangChain code.\n",
    "\n",
    "This model is an example of an \"Auto-Encoding LLM\" which generates an output given a complete input.\n",
    "It's different to all the other LLMs we've discussed today, which are known as \"Auto-Regressive LLMs\", and generate future tokens based only on past context.\n",
    "\n",
    "Another example of an Auto-Encoding LLMs is BERT from Google. In addition to embedding, Auto-encoding LLMs are often used for classification.\n",
    "\n",
    "### Sidenote\n",
    "\n",
    "In week 8 we will return to RAG and vector embeddings, and we will use an open-source vector encoder so that the data never leaves our computer - that's an important consideration when building enterprise systems and the data needs to remain internal."
   ]
  },
  {
   "cell_type": "code",
   "execution_count": 9,
   "id": "ae0c343b",
   "metadata": {},
   "outputs": [
    {
     "name": "stdout",
     "output_type": "stream",
     "text": [
      "ONNX: 1.18.0\n",
      "ONNX Runtime: GPU\n"
     ]
    }
   ],
   "source": [
    "import onnx, onnxruntime\n",
    "\n",
    "print(\"ONNX:\", onnx.__version__)\n",
    "print(\"ONNX Runtime:\", onnxruntime.get_device())  # debería mostrar CPU o GPU\n"
   ]
  },
  {
   "cell_type": "code",
   "execution_count": 10,
   "id": "d8753a46",
   "metadata": {},
   "outputs": [
    {
     "name": "stdout",
     "output_type": "stream",
     "text": [
      "1.22.0\n"
     ]
    }
   ],
   "source": [
    "import onnx \n",
    "import onnxruntime\n",
    "print(onnxruntime.__version__)\n"
   ]
  },
  {
   "cell_type": "code",
   "execution_count": 13,
   "id": "78998399-ac17-4e28-b15f-0b5f51e6ee23",
   "metadata": {},
   "outputs": [
    {
     "name": "stdout",
     "output_type": "stream",
     "text": [
      "Vectorstore created with 108 documents\n"
     ]
    }
   ],
   "source": [
    "# Put the chunks of data into a Vector Store that associates a Vector Embedding with each chunk\n",
    "# Chroma is a popular open source Vector Database based on SQLLite\n",
    "\n",
    "db_name = \"C:/Users/lukag/OneDrive/Desktop/Universidad/3ero/cuadrimestre2/PAID/github/IDSS-for-Diabetes-Readmission-Prediction/src/agent_2/db_place\"\n",
    "\n",
    "embeddings = HuggingFaceEmbeddings(model_name=\"all-MiniLM-L6-v2\")\n",
    "\n",
    "# Delete if already exists\n",
    "\n",
    "if os.path.exists(db_name):\n",
    "    Chroma(persist_directory=db_name, embedding_function=embeddings).delete_collection()\n",
    "\n",
    "# Create vectorstore\n",
    "\n",
    "vectorstore = Chroma.from_documents(documents=chunks, embedding=embeddings, persist_directory=db_name)\n",
    "print(f\"Vectorstore created with {vectorstore._collection.count()} documents\")"
   ]
  },
  {
   "cell_type": "code",
   "execution_count": 14,
   "id": "057868f6-51a6-4087-94d1-380145821550",
   "metadata": {},
   "outputs": [
    {
     "name": "stdout",
     "output_type": "stream",
     "text": [
      "The vectors have 384 dimensions\n"
     ]
    }
   ],
   "source": [
    "# Get one vector and find how many dimensions it has\n",
    "\n",
    "collection = vectorstore._collection\n",
    "sample_embedding = collection.get(limit=1, include=[\"embeddings\"])[\"embeddings\"][0]\n",
    "dimensions = len(sample_embedding)\n",
    "print(f\"The vectors have {dimensions:,} dimensions\")"
   ]
  },
  {
   "cell_type": "markdown",
   "id": "b0d45462-a818-441c-b010-b85b32bcf618",
   "metadata": {},
   "source": [
    "## Visualizing the Vector Store\n",
    "\n",
    "Let's take a minute to look at the documents and their embedding vectors to see what's going on."
   ]
  },
  {
   "cell_type": "code",
   "execution_count": 17,
   "id": "b1a3ac07",
   "metadata": {},
   "outputs": [],
   "source": [
    "result = collection.get(include=['embeddings', 'documents', 'metadatas'])\n",
    "vectors = np.array(result['embeddings'])\n",
    "documents = result['documents']\n",
    "doc_types = [metadata['doc_type'] for metadata in result['metadatas']]\n",
    "\n",
    "colors = [\"blue\"] * len(documents)\n"
   ]
  },
  {
   "cell_type": "code",
   "execution_count": null,
   "id": "b98adf5e-d464-4bd2-9bdf-bc5b6770263b",
   "metadata": {},
   "outputs": [],
   "source": [
    "# # Prework\n",
    "\n",
    "# result = collection.get(include=['embeddings', 'documents', 'metadatas'])\n",
    "# vectors = np.array(result['embeddings'])\n",
    "# documents = result['documents']\n",
    "# doc_types = [metadata['doc_type'] for metadata in result['metadatas']]\n",
    "# colors = [['blue', 'green', 'red', 'orange'][['products', 'employees', 'contracts', 'company'].index(t)] for t in doc_types]"
   ]
  },
  {
   "cell_type": "code",
   "execution_count": 18,
   "id": "427149d5-e5d8-4abd-bb6f-7ef0333cca21",
   "metadata": {},
   "outputs": [
    {
     "data": {
      "application/vnd.plotly.v1+json": {
       "config": {
        "plotlyServerURL": "https://plot.ly"
       },
       "data": [
        {
         "hoverinfo": "text",
         "marker": {
          "color": [
           "blue",
           "blue",
           "blue",
           "blue",
           "blue",
           "blue",
           "blue",
           "blue",
           "blue",
           "blue",
           "blue",
           "blue",
           "blue",
           "blue",
           "blue",
           "blue",
           "blue",
           "blue",
           "blue",
           "blue",
           "blue",
           "blue",
           "blue",
           "blue",
           "blue",
           "blue",
           "blue",
           "blue",
           "blue",
           "blue",
           "blue",
           "blue",
           "blue",
           "blue",
           "blue",
           "blue",
           "blue",
           "blue",
           "blue",
           "blue",
           "blue",
           "blue",
           "blue",
           "blue",
           "blue",
           "blue",
           "blue",
           "blue",
           "blue",
           "blue",
           "blue",
           "blue",
           "blue",
           "blue",
           "blue",
           "blue",
           "blue",
           "blue",
           "blue",
           "blue",
           "blue",
           "blue",
           "blue",
           "blue",
           "blue",
           "blue",
           "blue",
           "blue",
           "blue",
           "blue",
           "blue",
           "blue",
           "blue",
           "blue",
           "blue",
           "blue",
           "blue",
           "blue",
           "blue",
           "blue",
           "blue",
           "blue",
           "blue",
           "blue",
           "blue",
           "blue",
           "blue",
           "blue",
           "blue",
           "blue",
           "blue",
           "blue",
           "blue",
           "blue",
           "blue",
           "blue",
           "blue",
           "blue",
           "blue",
           "blue",
           "blue",
           "blue",
           "blue",
           "blue",
           "blue",
           "blue",
           "blue",
           "blue"
          ],
          "opacity": 0.8,
          "size": 5
         },
         "mode": "markers",
         "text": [
          "Type: PDF<br>Text: R e v i e w s / C o m m e n t a r i e s / P o s i t i o n \nS t a t e m e n t s\nC\nO\nM\nM\nI\nT\nT\nE\nE \nR\n...",
          "Type: PDF<br>Text: Committee Report\nis an absolute deficiency of insulin secre-\ntion. Individuals at increased risk of ...",
          "Type: PDF<br>Text: Committee Report\nresistance with an insulin secretory\ndefect.\n4. A recent international meeting revi...",
          "Type: PDF<br>Text: Committee Report\nStages\nTypes\nNormoglycemia\nNormal glucose regulation\nHyperglycemia\nImpaired Glucose...",
          "Type: PDF<br>Text: Committee Report\nnot HLA associated. An absolute require-\nment for insulin replacement therapy in\naf...",
          "Type: PDF<br>Text: Committee Report\ninsulin secretion (69,70). Fibrocalculous\npancreatopathy may be accompanied by\nabdo...",
          "Type: PDF<br>Text: Committee Report\nTable 2—Screening and diagnosis scheme\nfor GDM\nPlasma \n50-g \n100-g\nglucose \nscreeni...",
          "Type: PDF<br>Text: Committee Report\nTable 3—Criteria for the diagnosis of diabetes mellitus\nSymptoms of diabetes plus c...",
          "Type: PDF<br>Text: Committee Report\nin terms of the properties previously used\nto justify diagnostic criteria.\nThese fi...",
          "Type: PDF<br>Text: Committee \nReport\nTable 5—FPG cutpoints equivalent to the WHO 2-h plasma glucose criterion of 200 mg...",
          "Type: PDF<br>Text: Committee Report\nas treatment goals (137). The new diag-\nnostic cutpoint (FPG ^126 mg/dl) is based\no...",
          "Type: PDF<br>Text: Committee Report\nden of type 2 diabetes and its complications.\nHowever, to increase the cost-effecti...",
          "Type: PDF<br>Text: Committee Report\nEvans DF, Hartz AJ, Kalkhoff RK, Adams\nPW: Relationship of body fat distribution\nto...",
          "Type: PDF<br>Text: Committee Report\n[Ser82-1] insulin. Proc Natl Acad Sri USA\n80:6366-6370,1983\n61. Given BD, Mako ME, ...",
          "Type: PDF<br>Text: Committee Report\nglucose intolerance and diabetes mellitus\nin the first two months postpartum. Am]\nO...",
          "Type: PDF<br>Text: E p i d e m i o I o g y / H e a 11 h S e r v i c e s / P s y c h o s o c i a I \nR e s e a r c h\nN A ...",
          "Type: PDF<br>Text: King, Aubert, and Herman\nBecause the great majority of people\nwith diabetes are adults, the study wa...",
          "Type: PDF<br>Text: Global burden of diabetes\nDeveloped\nDeveloping\nWorld\nB\nFormerly \nMiddle\nsocialists \nEastern\neconomie...",
          "Type: PDF<br>Text: King, Aubert, and Herman\n350\n300\n250\n200\n150\n100\n50\nDeveloped\nDeveloping\nWorld\nB\n70\n60\n50\n40\n30 --*\n...",
          "Type: PDF<br>Text: Global burden of diabetes\nDeveloped countries\n1 20\n45-64\nage group (years)\nDeveloping countries\n120\n...",
          "Type: PDF<br>Text: King, Aubert, and Herman\n1.2\n1.0\n0.8\no1 0.6\n0.4\n0.2\n0.0 I\nDeveloped\nDeveloping\nWorld\nB\n1.8\n1.6\n1.4\n1...",
          "Type: PDF<br>Text: Global burden of diabetes\nAppendix 1—Description of survey data used for the calculation of country ...",
          "Type: PDF<br>Text: King, Aubert, and Herman\nAppendix 2—Population size, prevalence of diabetes, and number of people wi...",
          "Type: PDF<br>Text: Global burden of diabetes\nAppendix 2 (continued)\nNumber of people (000)\nCountry\nand year\nNetherlands...",
          "Type: PDF<br>Text: King, Aubert, and Herman\nAppendix 2 (continued)\nCountry\nand year\nPoland\n1995\n2000\n2025\nRepublic of M...",
          "Type: PDF<br>Text: Global burden of diabetes\nAppendix 2 (continued)\nCountry\nand year\nJordan\n1995\n2000\n2025\nKazakhstan\n1...",
          "Type: PDF<br>Text: King, Aubert, and Herman\nAppendix 2 (continued)\nCountry\nand year\nOther Asia and islands\n1995\n2000\n20...",
          "Type: PDF<br>Text: Global burden of diabetes\nAppendix 2 (continued)\nCountry\nand year\nNiue\n1995\n2000\n2025\nPalau\n1995\n200...",
          "Type: PDF<br>Text: King, Aubert, and Herman\nAppendix 2 (continued)\nCountry\nand year\nBrazil\n1995\n2000\n2025\nChile\n1995\n20...",
          "Type: PDF<br>Text: Global burden of diabetes\nAppendix 2 (continued)\nCountry\nand year\nParaguay\n1995\n2000\n2025\nPeru\n1995\n...",
          "Type: PDF<br>Text: King, Aubert, and Herman\nAppendix 2 (continued)\nCountry\nand year\nCongo\n1995\n2000\n2025\nCOte d'lvoire\n...",
          "Type: PDF<br>Text: Global burden of diabetes\nAppendix 2 (continued)\nCountry\nand year\nNiger\n1995\n2000\n2025\nNigeria\n1995\n...",
          "Type: PDF<br>Text: King, Aubert, and Herman\nReferences\n1. King H, Rewers M, WHO Ad Hoc Diabetes\nReporting Group: Global...",
          "Type: PDF<br>Text: Baseline Characteristics of the Diabetic\nParticipants in the Antihypertensive and\nLipid-Lowering Tre...",
          "Type: PDF<br>Text: for subgroup analyses. Four classes of\nantihypertensive medications are being\nrandomly assigned and ...",
          "Type: PDF<br>Text: and each of the nondiuretic treatments.\nThis calculation assumes a 16% risk re-\nduction in outcome (...",
          "Type: PDF<br>Text: have found similar results. Other studies\nhave shown Hispanic men and women to\nhave poorly controlle...",
          "Type: PDF<br>Text: L, D’Onofrio F: Metabolic and cardiovas-\ncular effects of carvedilol and atenolol in\nnon-insulin dep...",
          "Type: PDF<br>Text: The New England Journal of Medicine is produced by NEJM Group, a division of the Massachusetts Medic...",
          "Type: PDF<br>Text: The New England Journal of Medicine is produced by NEJM Group, a division of the Massachusetts Medic...",
          "Type: PDF<br>Text: The New England Journal of Medicine is produced by NEJM Group, a division of the Massachusetts Medic...",
          "Type: PDF<br>Text: The New England Journal of Medicine is produced by NEJM Group, a division of the Massachusetts Medic...",
          "Type: PDF<br>Text: The New England Journal of Medicine is produced by NEJM Group, a division of the Massachusetts Medic...",
          "Type: PDF<br>Text: The New England Journal of Medicine is produced by NEJM Group, a division of the Massachusetts Medic...",
          "Type: PDF<br>Text: The New England Journal of Medicine is produced by NEJM Group, a division of the Massachusetts Medic...",
          "Type: PDF<br>Text: The New England Journal of Medicine is produced by NEJM Group, a division of the Massachusetts Medic...",
          "Type: PDF<br>Text: The New England Journal of Medicine is produced by NEJM Group, a division of the Massachusetts Medic...",
          "Type: PDF<br>Text: The New England Journal of Medicine is produced by NEJM Group, a division of the Massachusetts Medic...",
          "Type: PDF<br>Text: The New England Journal of Medicine is produced by NEJM Group, a division of the Massachusetts Medic...",
          "Type: PDF<br>Text: The New England Journal of Medicine is produced by NEJM Group, a division of the Massachusetts Medic...",
          "Type: PDF<br>Text: The New England Journal of Medicine is produced by NEJM Group, a division of the Massachusetts Medic...",
          "Type: PDF<br>Text: The New England Journal of Medicine is produced by NEJM Group, a division of the Massachusetts Medic...",
          "Type: PDF<br>Text: The New England Journal of Medicine is produced by NEJM Group, a division of the Massachusetts Medic...",
          "Type: PDF<br>Text: The New England Journal of Medicine is produced by NEJM Group, a division of the Massachusetts Medic...",
          "Type: PDF<br>Text: The New England Journal of Medicine is produced by NEJM Group, a division of the Massachusetts Medic...",
          "Type: PDF<br>Text: The New England\n \nJournal \n \nof\n \n Medicine\n \nCopyright © 2001 by the Massachusetts Medical Society\n...",
          "Type: PDF<br>Text: 1344\n \n·\n \nN Engl J Med, Vol. 344, No. 18\n \n·\n \nMay 3, 2001\n \n·\n \nwww.nejm.org\n \nThe New England Jou...",
          "Type: PDF<br>Text: LIFESTYLE CHANGES TO PREVENT TYPE 2 DIABETES AMONG SUBJECTS WITH IMPAIRED GLUCOSE TOLERANCE\n \nN Engl...",
          "Type: PDF<br>Text: 1346\n \n·\n \nN Engl J Med, Vol. 344, No. 18\n \n·\n \nMay 3, 2001\n \n·\n \nwww.nejm.org\n \nThe New England Jou...",
          "Type: PDF<br>Text: LIFESTYLE CHANGES TO PREVENT TYPE 2 DIABETES AMONG SUBJECTS WITH IMPAIRED GLUCOSE TOLERANCE\nN Engl J...",
          "Type: PDF<br>Text: 1348 · N Engl J Med, Vol. 344, No. 18 · May 3, 2001 · www.nejm.org\nThe New England Journal of Medici...",
          "Type: PDF<br>Text: LIFESTYLE CHANGES TO PREVENT TYPE 2 DIABETES AMONG SUBJECTS WITH IMPAIRED GLUCOSE TOLERANCE\nN Engl J...",
          "Type: PDF<br>Text: 1350 · N Engl J Med, Vol. 344, No. 18 · May 3, 2001 · www.nejm.org\nThe New England Journal of Medici...",
          "Type: PDF<br>Text: N Engl J Med, Vol. 345, No. 10\n \n·\n \nSeptember 6, 2001\n \n·\n \nwww.nejm.org\n \n·\n \n725\n \nCHEMORADIOTHER...",
          "Type: PDF<br>Text: 726\n \n·\n \nN Engl J Med, Vol. 345, No. 10\n \n·\n \nSeptember 6, 2001\n \n·\n \nwww.nejm.org\n \nThe New Englan...",
          "Type: PDF<br>Text: CHEMORADIOTHERAPY PLUS SURGERY FOR GASTRIC ADENOCARCINOMA\n \nN Engl J Med, Vol. 345, No. 10\n \n·\n \nSep...",
          "Type: PDF<br>Text: 728\n \n·\n \nN Engl J Med, Vol. 345, No. 10\n \n·\n \nSeptember 6, 2001\n \n·\n \nwww.nejm.org\n \nThe New Englan...",
          "Type: PDF<br>Text: CHEMORADIOTHERAPY PLUS SURGERY FOR GASTRIC ADENOCARCINOMA\nN Engl J Med, Vol. 345, No. 10 · September...",
          "Type: PDF<br>Text: 730 · N Engl J Med, Vol. 345, No. 10 · September 6, 2001 · www.nejm.org\nThe New England Journal of M...",
          "Type: PDF<br>Text: n engl j med 358;24  www.nejm.org  june 12, 2008\n2545\nThe new england  \njournal of medicine\nestablis...",
          "Type: PDF<br>Text: The new engl and jour nal of medicine\nn engl j med 358;24  www.nejm.org  june 12, 2008\n2546\nT\nype 2 ...",
          "Type: PDF<br>Text: Intensive Glucose Lowering in Type 2 Diabetes\nn engl j med 358;24  www.nejm.org  june 12, 2008\n2547\n...",
          "Type: PDF<br>Text: The new engl and jour nal of medicine\nn engl j med 358;24  www.nejm.org  june 12, 2008\n2548\nTable 1....",
          "Type: PDF<br>Text: Intensive Glucose Lowering in Type 2 Diabetes\nn engl j med 358;24  www.nejm.org  june 12, 2008\n2549\n...",
          "Type: PDF<br>Text: The new engl and jour nal of medicine\nn engl j med 358;24  www.nejm.org  june 12, 2008\n2550\nat the t...",
          "Type: PDF<br>Text: Intensive Glucose Lowering in Type 2 Diabetes\nn engl j med 358;24  www.nejm.org  june 12, 2008\n2551\n...",
          "Type: PDF<br>Text: The new engl and jour nal of medicine\nn engl j med 358;24  www.nejm.org  june 12, 2008\n2552\nzone), w...",
          "Type: PDF<br>Text: Intensive Glucose Lowering in Type 2 Diabetes\nn engl j med 358;24  www.nejm.org  june 12, 2008\n2553\n...",
          "Type: PDF<br>Text: The new engl and jour nal of medicine\nn engl j med 358;24  www.nejm.org  june 12, 2008\n2554\nfied any...",
          "Type: PDF<br>Text: Intensive Glucose Lowering in Type 2 Diabetes\nn engl j med 358;24  www.nejm.org  june 12, 2008\n2555\n...",
          "Type: PDF<br>Text: The new engl and jour nal of medicine\nn engl j med 358;24  www.nejm.org  june 12, 2008\n2556\nties. Fi...",
          "Type: PDF<br>Text: Intensive Glucose Lowering in Type 2 Diabetes\nn engl j med 358;24  www.nejm.org  june 12, 2008\n2557\n...",
          "Type: PDF<br>Text: The new engl and jour nal of medicine\nn engl j med 358;24  www.nejm.org  june 12, 2008\n2558\nStewart....",
          "Type: PDF<br>Text: Intensive Glucose Lowering in Type 2 Diabetes\nn engl j med 358;24  www.nejm.org  june 12, 2008\n2559\n...",
          "Type: PDF<br>Text: original article\nThe new engl and jour nal of medicine\nn engl j med 358;24  www.nejm.org  june 12, 2...",
          "Type: PDF<br>Text: Intensive Blood Glucose Control and Vascular Outcomes in Type 2 Diabetes\nn engl j med 358;24  www.ne...",
          "Type: PDF<br>Text: The new engl and jour nal of medicine\nn engl j med 358;24  www.nejm.org  june 12, 2008\n2562\nfasting ...",
          "Type: PDF<br>Text: Intensive Blood Glucose Control and Vascular Outcomes in Type 2 Diabetes\nn engl j med 358;24  www.ne...",
          "Type: PDF<br>Text: The new engl and jour nal of medicine\nn engl j med 358;24  www.nejm.org  june 12, 2008\n2564\nTable 1....",
          "Type: PDF<br>Text: Intensive Blood Glucose Control and Vascular Outcomes in Type 2 Diabetes\nn engl j med 358;24  www.ne...",
          "Type: PDF<br>Text: The new engl and jour nal of medicine\nn engl j med 358;24  www.nejm.org  june 12, 2008\n2566\npost-ran...",
          "Type: PDF<br>Text: Intensive Blood Glucose Control and Vascular Outcomes in Type 2 Diabetes\nn engl j med 358;24  www.ne...",
          "Type: PDF<br>Text: The new engl and jour nal of medicine\nn engl j med 358;24  www.nejm.org  june 12, 2008\n2568\nfor any ...",
          "Type: PDF<br>Text: Intensive Blood Glucose Control and Vascular Outcomes in Type 2 Diabetes\nn engl j med 358;24  www.ne...",
          "Type: PDF<br>Text: The new engl and jour nal of medicine\nn engl j med 358;24  www.nejm.org  june 12, 2008\n2570\nIntensiv...",
          "Type: PDF<br>Text: Intensive Blood Glucose Control and Vascular Outcomes in Type 2 Diabetes\nn engl j med 358;24  www.ne...",
          "Type: PDF<br>Text: n engl j med 358;24  www.nejm.org  june 12, 2008\n2572\nIntensive Blood Glucose Control and Vascular O...",
          "Type: PDF<br>Text: leitlinien für die praxis\nWien Klin Wochenschr (2023) 135 (Suppl 1):S7–S17\nhttps://doi.org/10.1007/s...",
          "Type: PDF<br>Text: leitlinien für die praxis\nRisiko für vaskuläre Erkrankungen (koronare Herz-\nkrankheit, Schlaganfall)...",
          "Type: PDF<br>Text: leitlinien für die praxis\ndere genetische Syndrome (z.B. Down-, Klinefelter-,\nTurner-Syndrome), Infe...",
          "Type: PDF<br>Text: leitlinien für die praxis\n\u0002 Bei Situationen/Erkrankungen mit erhöhtem Ery-\nthrozytenumsatz (z.B. Sch...",
          "Type: PDF<br>Text: leitlinien für die praxis\nGlukosebestimmung (Zeitpunkt 120min nach\nGlukoseaufnahme)\n\u0002 Kontraindikati...",
          "Type: PDF<br>Text: leitlinien für die praxis\nTab. 4\nAusgewählte Studien zur Prävention des Typ 2 Diabetes mittels Leben...",
          "Type: PDF<br>Text: leitlinien für die praxis\nwicht und Adipositas zu langfristiger Reduktion des\nKörpergewichts um mind...",
          "Type: PDF<br>Text: leitlinien für die praxis\nTab. 5\nAusgewählte Medikamente in der Prävention von Typ 2 Diabetes. Die A...",
          "Type: PDF<br>Text: leitlinien für die praxis\nkeiten vorliegen [36]. Im Fall eines positiven Nachwei-\nses von Autoantikö...",
          "Type: PDF<br>Text: leitlinien für die praxis\ntion Program Outcomes Study (DPPOS). Diabetes Care.\n2019;42(9):1809–15.\n24...",
          "Type: PDF<br>Text: leitlinien für die praxis\n59. ORIGIN Trial Investigators, Gerstein HC, Bosch J, et al.\nBasal insulin..."
         ],
         "type": "scatter",
         "x": [
          1.2904452,
          0.082398914,
          -0.35838526,
          -0.5790839,
          -0.40890852,
          -1.1593004,
          -0.39219692,
          -0.36620834,
          2.7307587,
          2.6797347,
          -0.26548034,
          -0.28130022,
          1.2532992,
          -0.42977318,
          -0.469226,
          3.5924044,
          3.7918642,
          3.3384569,
          3.494477,
          3.5772257,
          3.642302,
          4.515964,
          5.1227856,
          4.8499618,
          6.0472827,
          4.7495584,
          5.8808784,
          4.719333,
          5.9092507,
          4.9050198,
          5.8569393,
          4.753943,
          1.756585,
          -3.3670182,
          -3.2796767,
          -2.397324,
          -2.7585526,
          -4.115156,
          -8.308369,
          -8.299927,
          -8.308502,
          -7.5258536,
          -7.890927,
          -8.706529,
          -8.706529,
          -9.111978,
          -7.564231,
          -7.9368286,
          -9.178861,
          -8.641209,
          -8.831165,
          -7.672141,
          -7.890927,
          -8.932795,
          -8.168932,
          -0.6973808,
          -0.6978736,
          -0.9675145,
          -1.0998253,
          -0.98844624,
          -1.1299653,
          -0.7789155,
          -2.300609,
          -8.3248415,
          -7.174544,
          -8.270271,
          -8.117642,
          -8.269306,
          -8.215842,
          -2.2440186,
          -1.8207561,
          -4.656621,
          -3.9303741,
          -2.6886468,
          -6.5609374,
          -3.421671,
          -2.6626756,
          -3.9611297,
          -6.4448724,
          -3.1667063,
          -4.521841,
          -1.9491937,
          0.48216656,
          -2.4910996,
          -2.9784927,
          -3.1853423,
          -5.1832933,
          -3.5651727,
          -3.3817596,
          -3.8301394,
          -4.9554853,
          -4.2018337,
          -5.459589,
          -3.7105582,
          -3.6471329,
          -4.446557,
          -3.2250457,
          1.8261056,
          1.8358727,
          0.12416726,
          1.9156728,
          2.0358567,
          2.9263334,
          2.3200898,
          2.9746423,
          1.5012817,
          0.404125,
          0.26521495
         ],
         "y": [
          -1.0182337,
          -1.1441468,
          -0.9309618,
          -0.72421956,
          -1.4816484,
          -1.7336513,
          1.2263073,
          1.3938093,
          5.212247,
          5.169407,
          2.2263086,
          1.0322449,
          0.27550405,
          -1.9502506,
          0.23584688,
          -0.72751665,
          -0.4496474,
          -1.4812411,
          -1.9219189,
          -0.82557356,
          -2.1443813,
          -1.6850021,
          -1.980256,
          -2.258073,
          -3.9839845,
          -2.5687153,
          -4.246499,
          -2.6822193,
          -4.073101,
          -2.9201846,
          -4.062037,
          -2.8383641,
          0.07668957,
          6.6615467,
          6.6106677,
          5.6767926,
          6.280623,
          5.939164,
          -6.025317,
          -5.1907825,
          -6.025504,
          -5.7973723,
          -5.4305377,
          -6.6673856,
          -6.6673856,
          -6.320606,
          -6.105241,
          -6.6523433,
          -5.875269,
          -5.275588,
          -5.890753,
          -6.4258947,
          -5.4305377,
          -5.4412866,
          -6.7946415,
          3.2111769,
          3.8963087,
          3.906296,
          5.524786,
          4.698469,
          4.6885123,
          4.418818,
          0.24789396,
          6.1115813,
          4.5548315,
          5.974332,
          5.5316896,
          6.146271,
          6.3119745,
          2.1168618,
          2.7950065,
          3.7311342,
          0.52164525,
          4.367347,
          3.8504722,
          4.2975016,
          3.7328105,
          4.348734,
          3.8634582,
          3.1627386,
          4.1521797,
          1.881211,
          2.927911,
          2.745575,
          2.1929235,
          2.8620749,
          3.9439795,
          3.767073,
          1.1886644,
          2.9568949,
          3.8838255,
          1.68848,
          2.7081838,
          2.4817379,
          3.374887,
          2.5592968,
          1.7212327,
          1.4695241,
          1.750846,
          -0.33641505,
          1.4284406,
          2.3552063,
          3.1416762,
          2.6581829,
          3.1333563,
          3.0445683,
          4.802604,
          4.3423448
         ]
        }
       ],
       "layout": {
        "height": 600,
        "margin": {
         "b": 10,
         "l": 10,
         "r": 20,
         "t": 40
        },
        "scene": {
         "xaxis": {
          "title": {
           "text": "x"
          }
         },
         "yaxis": {
          "title": {
           "text": "y"
          }
         }
        },
        "template": {
         "data": {
          "bar": [
           {
            "error_x": {
             "color": "#2a3f5f"
            },
            "error_y": {
             "color": "#2a3f5f"
            },
            "marker": {
             "line": {
              "color": "#E5ECF6",
              "width": 0.5
             },
             "pattern": {
              "fillmode": "overlay",
              "size": 10,
              "solidity": 0.2
             }
            },
            "type": "bar"
           }
          ],
          "barpolar": [
           {
            "marker": {
             "line": {
              "color": "#E5ECF6",
              "width": 0.5
             },
             "pattern": {
              "fillmode": "overlay",
              "size": 10,
              "solidity": 0.2
             }
            },
            "type": "barpolar"
           }
          ],
          "carpet": [
           {
            "aaxis": {
             "endlinecolor": "#2a3f5f",
             "gridcolor": "white",
             "linecolor": "white",
             "minorgridcolor": "white",
             "startlinecolor": "#2a3f5f"
            },
            "baxis": {
             "endlinecolor": "#2a3f5f",
             "gridcolor": "white",
             "linecolor": "white",
             "minorgridcolor": "white",
             "startlinecolor": "#2a3f5f"
            },
            "type": "carpet"
           }
          ],
          "choropleth": [
           {
            "colorbar": {
             "outlinewidth": 0,
             "ticks": ""
            },
            "type": "choropleth"
           }
          ],
          "contour": [
           {
            "colorbar": {
             "outlinewidth": 0,
             "ticks": ""
            },
            "colorscale": [
             [
              0,
              "#0d0887"
             ],
             [
              0.1111111111111111,
              "#46039f"
             ],
             [
              0.2222222222222222,
              "#7201a8"
             ],
             [
              0.3333333333333333,
              "#9c179e"
             ],
             [
              0.4444444444444444,
              "#bd3786"
             ],
             [
              0.5555555555555556,
              "#d8576b"
             ],
             [
              0.6666666666666666,
              "#ed7953"
             ],
             [
              0.7777777777777778,
              "#fb9f3a"
             ],
             [
              0.8888888888888888,
              "#fdca26"
             ],
             [
              1,
              "#f0f921"
             ]
            ],
            "type": "contour"
           }
          ],
          "contourcarpet": [
           {
            "colorbar": {
             "outlinewidth": 0,
             "ticks": ""
            },
            "type": "contourcarpet"
           }
          ],
          "heatmap": [
           {
            "colorbar": {
             "outlinewidth": 0,
             "ticks": ""
            },
            "colorscale": [
             [
              0,
              "#0d0887"
             ],
             [
              0.1111111111111111,
              "#46039f"
             ],
             [
              0.2222222222222222,
              "#7201a8"
             ],
             [
              0.3333333333333333,
              "#9c179e"
             ],
             [
              0.4444444444444444,
              "#bd3786"
             ],
             [
              0.5555555555555556,
              "#d8576b"
             ],
             [
              0.6666666666666666,
              "#ed7953"
             ],
             [
              0.7777777777777778,
              "#fb9f3a"
             ],
             [
              0.8888888888888888,
              "#fdca26"
             ],
             [
              1,
              "#f0f921"
             ]
            ],
            "type": "heatmap"
           }
          ],
          "heatmapgl": [
           {
            "colorbar": {
             "outlinewidth": 0,
             "ticks": ""
            },
            "colorscale": [
             [
              0,
              "#0d0887"
             ],
             [
              0.1111111111111111,
              "#46039f"
             ],
             [
              0.2222222222222222,
              "#7201a8"
             ],
             [
              0.3333333333333333,
              "#9c179e"
             ],
             [
              0.4444444444444444,
              "#bd3786"
             ],
             [
              0.5555555555555556,
              "#d8576b"
             ],
             [
              0.6666666666666666,
              "#ed7953"
             ],
             [
              0.7777777777777778,
              "#fb9f3a"
             ],
             [
              0.8888888888888888,
              "#fdca26"
             ],
             [
              1,
              "#f0f921"
             ]
            ],
            "type": "heatmapgl"
           }
          ],
          "histogram": [
           {
            "marker": {
             "pattern": {
              "fillmode": "overlay",
              "size": 10,
              "solidity": 0.2
             }
            },
            "type": "histogram"
           }
          ],
          "histogram2d": [
           {
            "colorbar": {
             "outlinewidth": 0,
             "ticks": ""
            },
            "colorscale": [
             [
              0,
              "#0d0887"
             ],
             [
              0.1111111111111111,
              "#46039f"
             ],
             [
              0.2222222222222222,
              "#7201a8"
             ],
             [
              0.3333333333333333,
              "#9c179e"
             ],
             [
              0.4444444444444444,
              "#bd3786"
             ],
             [
              0.5555555555555556,
              "#d8576b"
             ],
             [
              0.6666666666666666,
              "#ed7953"
             ],
             [
              0.7777777777777778,
              "#fb9f3a"
             ],
             [
              0.8888888888888888,
              "#fdca26"
             ],
             [
              1,
              "#f0f921"
             ]
            ],
            "type": "histogram2d"
           }
          ],
          "histogram2dcontour": [
           {
            "colorbar": {
             "outlinewidth": 0,
             "ticks": ""
            },
            "colorscale": [
             [
              0,
              "#0d0887"
             ],
             [
              0.1111111111111111,
              "#46039f"
             ],
             [
              0.2222222222222222,
              "#7201a8"
             ],
             [
              0.3333333333333333,
              "#9c179e"
             ],
             [
              0.4444444444444444,
              "#bd3786"
             ],
             [
              0.5555555555555556,
              "#d8576b"
             ],
             [
              0.6666666666666666,
              "#ed7953"
             ],
             [
              0.7777777777777778,
              "#fb9f3a"
             ],
             [
              0.8888888888888888,
              "#fdca26"
             ],
             [
              1,
              "#f0f921"
             ]
            ],
            "type": "histogram2dcontour"
           }
          ],
          "mesh3d": [
           {
            "colorbar": {
             "outlinewidth": 0,
             "ticks": ""
            },
            "type": "mesh3d"
           }
          ],
          "parcoords": [
           {
            "line": {
             "colorbar": {
              "outlinewidth": 0,
              "ticks": ""
             }
            },
            "type": "parcoords"
           }
          ],
          "pie": [
           {
            "automargin": true,
            "type": "pie"
           }
          ],
          "scatter": [
           {
            "fillpattern": {
             "fillmode": "overlay",
             "size": 10,
             "solidity": 0.2
            },
            "type": "scatter"
           }
          ],
          "scatter3d": [
           {
            "line": {
             "colorbar": {
              "outlinewidth": 0,
              "ticks": ""
             }
            },
            "marker": {
             "colorbar": {
              "outlinewidth": 0,
              "ticks": ""
             }
            },
            "type": "scatter3d"
           }
          ],
          "scattercarpet": [
           {
            "marker": {
             "colorbar": {
              "outlinewidth": 0,
              "ticks": ""
             }
            },
            "type": "scattercarpet"
           }
          ],
          "scattergeo": [
           {
            "marker": {
             "colorbar": {
              "outlinewidth": 0,
              "ticks": ""
             }
            },
            "type": "scattergeo"
           }
          ],
          "scattergl": [
           {
            "marker": {
             "colorbar": {
              "outlinewidth": 0,
              "ticks": ""
             }
            },
            "type": "scattergl"
           }
          ],
          "scattermapbox": [
           {
            "marker": {
             "colorbar": {
              "outlinewidth": 0,
              "ticks": ""
             }
            },
            "type": "scattermapbox"
           }
          ],
          "scatterpolar": [
           {
            "marker": {
             "colorbar": {
              "outlinewidth": 0,
              "ticks": ""
             }
            },
            "type": "scatterpolar"
           }
          ],
          "scatterpolargl": [
           {
            "marker": {
             "colorbar": {
              "outlinewidth": 0,
              "ticks": ""
             }
            },
            "type": "scatterpolargl"
           }
          ],
          "scatterternary": [
           {
            "marker": {
             "colorbar": {
              "outlinewidth": 0,
              "ticks": ""
             }
            },
            "type": "scatterternary"
           }
          ],
          "surface": [
           {
            "colorbar": {
             "outlinewidth": 0,
             "ticks": ""
            },
            "colorscale": [
             [
              0,
              "#0d0887"
             ],
             [
              0.1111111111111111,
              "#46039f"
             ],
             [
              0.2222222222222222,
              "#7201a8"
             ],
             [
              0.3333333333333333,
              "#9c179e"
             ],
             [
              0.4444444444444444,
              "#bd3786"
             ],
             [
              0.5555555555555556,
              "#d8576b"
             ],
             [
              0.6666666666666666,
              "#ed7953"
             ],
             [
              0.7777777777777778,
              "#fb9f3a"
             ],
             [
              0.8888888888888888,
              "#fdca26"
             ],
             [
              1,
              "#f0f921"
             ]
            ],
            "type": "surface"
           }
          ],
          "table": [
           {
            "cells": {
             "fill": {
              "color": "#EBF0F8"
             },
             "line": {
              "color": "white"
             }
            },
            "header": {
             "fill": {
              "color": "#C8D4E3"
             },
             "line": {
              "color": "white"
             }
            },
            "type": "table"
           }
          ]
         },
         "layout": {
          "annotationdefaults": {
           "arrowcolor": "#2a3f5f",
           "arrowhead": 0,
           "arrowwidth": 1
          },
          "autotypenumbers": "strict",
          "coloraxis": {
           "colorbar": {
            "outlinewidth": 0,
            "ticks": ""
           }
          },
          "colorscale": {
           "diverging": [
            [
             0,
             "#8e0152"
            ],
            [
             0.1,
             "#c51b7d"
            ],
            [
             0.2,
             "#de77ae"
            ],
            [
             0.3,
             "#f1b6da"
            ],
            [
             0.4,
             "#fde0ef"
            ],
            [
             0.5,
             "#f7f7f7"
            ],
            [
             0.6,
             "#e6f5d0"
            ],
            [
             0.7,
             "#b8e186"
            ],
            [
             0.8,
             "#7fbc41"
            ],
            [
             0.9,
             "#4d9221"
            ],
            [
             1,
             "#276419"
            ]
           ],
           "sequential": [
            [
             0,
             "#0d0887"
            ],
            [
             0.1111111111111111,
             "#46039f"
            ],
            [
             0.2222222222222222,
             "#7201a8"
            ],
            [
             0.3333333333333333,
             "#9c179e"
            ],
            [
             0.4444444444444444,
             "#bd3786"
            ],
            [
             0.5555555555555556,
             "#d8576b"
            ],
            [
             0.6666666666666666,
             "#ed7953"
            ],
            [
             0.7777777777777778,
             "#fb9f3a"
            ],
            [
             0.8888888888888888,
             "#fdca26"
            ],
            [
             1,
             "#f0f921"
            ]
           ],
           "sequentialminus": [
            [
             0,
             "#0d0887"
            ],
            [
             0.1111111111111111,
             "#46039f"
            ],
            [
             0.2222222222222222,
             "#7201a8"
            ],
            [
             0.3333333333333333,
             "#9c179e"
            ],
            [
             0.4444444444444444,
             "#bd3786"
            ],
            [
             0.5555555555555556,
             "#d8576b"
            ],
            [
             0.6666666666666666,
             "#ed7953"
            ],
            [
             0.7777777777777778,
             "#fb9f3a"
            ],
            [
             0.8888888888888888,
             "#fdca26"
            ],
            [
             1,
             "#f0f921"
            ]
           ]
          },
          "colorway": [
           "#636efa",
           "#EF553B",
           "#00cc96",
           "#ab63fa",
           "#FFA15A",
           "#19d3f3",
           "#FF6692",
           "#B6E880",
           "#FF97FF",
           "#FECB52"
          ],
          "font": {
           "color": "#2a3f5f"
          },
          "geo": {
           "bgcolor": "white",
           "lakecolor": "white",
           "landcolor": "#E5ECF6",
           "showlakes": true,
           "showland": true,
           "subunitcolor": "white"
          },
          "hoverlabel": {
           "align": "left"
          },
          "hovermode": "closest",
          "mapbox": {
           "style": "light"
          },
          "paper_bgcolor": "white",
          "plot_bgcolor": "#E5ECF6",
          "polar": {
           "angularaxis": {
            "gridcolor": "white",
            "linecolor": "white",
            "ticks": ""
           },
           "bgcolor": "#E5ECF6",
           "radialaxis": {
            "gridcolor": "white",
            "linecolor": "white",
            "ticks": ""
           }
          },
          "scene": {
           "xaxis": {
            "backgroundcolor": "#E5ECF6",
            "gridcolor": "white",
            "gridwidth": 2,
            "linecolor": "white",
            "showbackground": true,
            "ticks": "",
            "zerolinecolor": "white"
           },
           "yaxis": {
            "backgroundcolor": "#E5ECF6",
            "gridcolor": "white",
            "gridwidth": 2,
            "linecolor": "white",
            "showbackground": true,
            "ticks": "",
            "zerolinecolor": "white"
           },
           "zaxis": {
            "backgroundcolor": "#E5ECF6",
            "gridcolor": "white",
            "gridwidth": 2,
            "linecolor": "white",
            "showbackground": true,
            "ticks": "",
            "zerolinecolor": "white"
           }
          },
          "shapedefaults": {
           "line": {
            "color": "#2a3f5f"
           }
          },
          "ternary": {
           "aaxis": {
            "gridcolor": "white",
            "linecolor": "white",
            "ticks": ""
           },
           "baxis": {
            "gridcolor": "white",
            "linecolor": "white",
            "ticks": ""
           },
           "bgcolor": "#E5ECF6",
           "caxis": {
            "gridcolor": "white",
            "linecolor": "white",
            "ticks": ""
           }
          },
          "title": {
           "x": 0.05
          },
          "xaxis": {
           "automargin": true,
           "gridcolor": "white",
           "linecolor": "white",
           "ticks": "",
           "title": {
            "standoff": 15
           },
           "zerolinecolor": "white",
           "zerolinewidth": 2
          },
          "yaxis": {
           "automargin": true,
           "gridcolor": "white",
           "linecolor": "white",
           "ticks": "",
           "title": {
            "standoff": 15
           },
           "zerolinecolor": "white",
           "zerolinewidth": 2
          }
         }
        },
        "title": {
         "text": "2D Chroma Vector Store Visualization"
        },
        "width": 800
       }
      }
     },
     "metadata": {},
     "output_type": "display_data"
    }
   ],
   "source": [
    "# We humans find it easier to visalize things in 2D!\n",
    "# Reduce the dimensionality of the vectors to 2D using t-SNE\n",
    "# (t-distributed stochastic neighbor embedding)\n",
    "\n",
    "tsne = TSNE(n_components=2, random_state=42)\n",
    "reduced_vectors = tsne.fit_transform(vectors)\n",
    "\n",
    "# Create the 2D scatter plot\n",
    "fig = go.Figure(data=[go.Scatter(\n",
    "    x=reduced_vectors[:, 0],\n",
    "    y=reduced_vectors[:, 1],\n",
    "    mode='markers',\n",
    "    marker=dict(size=5, color=colors, opacity=0.8),\n",
    "    text=[f\"Type: {t}<br>Text: {d[:100]}...\" for t, d in zip(doc_types, documents)],\n",
    "    hoverinfo='text'\n",
    ")])\n",
    "\n",
    "fig.update_layout(\n",
    "    title='2D Chroma Vector Store Visualization',\n",
    "    scene=dict(xaxis_title='x',yaxis_title='y'),\n",
    "    width=800,\n",
    "    height=600,\n",
    "    margin=dict(r=20, b=10, l=10, t=40)\n",
    ")\n",
    "\n",
    "fig.show()"
   ]
  },
  {
   "cell_type": "code",
   "execution_count": 19,
   "id": "e1418e88-acd5-460a-bf2b-4e6efc88e3dd",
   "metadata": {},
   "outputs": [
    {
     "data": {
      "application/vnd.plotly.v1+json": {
       "config": {
        "plotlyServerURL": "https://plot.ly"
       },
       "data": [
        {
         "hoverinfo": "text",
         "marker": {
          "color": [
           "blue",
           "blue",
           "blue",
           "blue",
           "blue",
           "blue",
           "blue",
           "blue",
           "blue",
           "blue",
           "blue",
           "blue",
           "blue",
           "blue",
           "blue",
           "blue",
           "blue",
           "blue",
           "blue",
           "blue",
           "blue",
           "blue",
           "blue",
           "blue",
           "blue",
           "blue",
           "blue",
           "blue",
           "blue",
           "blue",
           "blue",
           "blue",
           "blue",
           "blue",
           "blue",
           "blue",
           "blue",
           "blue",
           "blue",
           "blue",
           "blue",
           "blue",
           "blue",
           "blue",
           "blue",
           "blue",
           "blue",
           "blue",
           "blue",
           "blue",
           "blue",
           "blue",
           "blue",
           "blue",
           "blue",
           "blue",
           "blue",
           "blue",
           "blue",
           "blue",
           "blue",
           "blue",
           "blue",
           "blue",
           "blue",
           "blue",
           "blue",
           "blue",
           "blue",
           "blue",
           "blue",
           "blue",
           "blue",
           "blue",
           "blue",
           "blue",
           "blue",
           "blue",
           "blue",
           "blue",
           "blue",
           "blue",
           "blue",
           "blue",
           "blue",
           "blue",
           "blue",
           "blue",
           "blue",
           "blue",
           "blue",
           "blue",
           "blue",
           "blue",
           "blue",
           "blue",
           "blue",
           "blue",
           "blue",
           "blue",
           "blue",
           "blue",
           "blue",
           "blue",
           "blue",
           "blue",
           "blue",
           "blue"
          ],
          "opacity": 0.8,
          "size": 5
         },
         "mode": "markers",
         "text": [
          "Type: PDF<br>Text: R e v i e w s / C o m m e n t a r i e s / P o s i t i o n \nS t a t e m e n t s\nC\nO\nM\nM\nI\nT\nT\nE\nE \nR\n...",
          "Type: PDF<br>Text: Committee Report\nis an absolute deficiency of insulin secre-\ntion. Individuals at increased risk of ...",
          "Type: PDF<br>Text: Committee Report\nresistance with an insulin secretory\ndefect.\n4. A recent international meeting revi...",
          "Type: PDF<br>Text: Committee Report\nStages\nTypes\nNormoglycemia\nNormal glucose regulation\nHyperglycemia\nImpaired Glucose...",
          "Type: PDF<br>Text: Committee Report\nnot HLA associated. An absolute require-\nment for insulin replacement therapy in\naf...",
          "Type: PDF<br>Text: Committee Report\ninsulin secretion (69,70). Fibrocalculous\npancreatopathy may be accompanied by\nabdo...",
          "Type: PDF<br>Text: Committee Report\nTable 2—Screening and diagnosis scheme\nfor GDM\nPlasma \n50-g \n100-g\nglucose \nscreeni...",
          "Type: PDF<br>Text: Committee Report\nTable 3—Criteria for the diagnosis of diabetes mellitus\nSymptoms of diabetes plus c...",
          "Type: PDF<br>Text: Committee Report\nin terms of the properties previously used\nto justify diagnostic criteria.\nThese fi...",
          "Type: PDF<br>Text: Committee \nReport\nTable 5—FPG cutpoints equivalent to the WHO 2-h plasma glucose criterion of 200 mg...",
          "Type: PDF<br>Text: Committee Report\nas treatment goals (137). The new diag-\nnostic cutpoint (FPG ^126 mg/dl) is based\no...",
          "Type: PDF<br>Text: Committee Report\nden of type 2 diabetes and its complications.\nHowever, to increase the cost-effecti...",
          "Type: PDF<br>Text: Committee Report\nEvans DF, Hartz AJ, Kalkhoff RK, Adams\nPW: Relationship of body fat distribution\nto...",
          "Type: PDF<br>Text: Committee Report\n[Ser82-1] insulin. Proc Natl Acad Sri USA\n80:6366-6370,1983\n61. Given BD, Mako ME, ...",
          "Type: PDF<br>Text: Committee Report\nglucose intolerance and diabetes mellitus\nin the first two months postpartum. Am]\nO...",
          "Type: PDF<br>Text: E p i d e m i o I o g y / H e a 11 h S e r v i c e s / P s y c h o s o c i a I \nR e s e a r c h\nN A ...",
          "Type: PDF<br>Text: King, Aubert, and Herman\nBecause the great majority of people\nwith diabetes are adults, the study wa...",
          "Type: PDF<br>Text: Global burden of diabetes\nDeveloped\nDeveloping\nWorld\nB\nFormerly \nMiddle\nsocialists \nEastern\neconomie...",
          "Type: PDF<br>Text: King, Aubert, and Herman\n350\n300\n250\n200\n150\n100\n50\nDeveloped\nDeveloping\nWorld\nB\n70\n60\n50\n40\n30 --*\n...",
          "Type: PDF<br>Text: Global burden of diabetes\nDeveloped countries\n1 20\n45-64\nage group (years)\nDeveloping countries\n120\n...",
          "Type: PDF<br>Text: King, Aubert, and Herman\n1.2\n1.0\n0.8\no1 0.6\n0.4\n0.2\n0.0 I\nDeveloped\nDeveloping\nWorld\nB\n1.8\n1.6\n1.4\n1...",
          "Type: PDF<br>Text: Global burden of diabetes\nAppendix 1—Description of survey data used for the calculation of country ...",
          "Type: PDF<br>Text: King, Aubert, and Herman\nAppendix 2—Population size, prevalence of diabetes, and number of people wi...",
          "Type: PDF<br>Text: Global burden of diabetes\nAppendix 2 (continued)\nNumber of people (000)\nCountry\nand year\nNetherlands...",
          "Type: PDF<br>Text: King, Aubert, and Herman\nAppendix 2 (continued)\nCountry\nand year\nPoland\n1995\n2000\n2025\nRepublic of M...",
          "Type: PDF<br>Text: Global burden of diabetes\nAppendix 2 (continued)\nCountry\nand year\nJordan\n1995\n2000\n2025\nKazakhstan\n1...",
          "Type: PDF<br>Text: King, Aubert, and Herman\nAppendix 2 (continued)\nCountry\nand year\nOther Asia and islands\n1995\n2000\n20...",
          "Type: PDF<br>Text: Global burden of diabetes\nAppendix 2 (continued)\nCountry\nand year\nNiue\n1995\n2000\n2025\nPalau\n1995\n200...",
          "Type: PDF<br>Text: King, Aubert, and Herman\nAppendix 2 (continued)\nCountry\nand year\nBrazil\n1995\n2000\n2025\nChile\n1995\n20...",
          "Type: PDF<br>Text: Global burden of diabetes\nAppendix 2 (continued)\nCountry\nand year\nParaguay\n1995\n2000\n2025\nPeru\n1995\n...",
          "Type: PDF<br>Text: King, Aubert, and Herman\nAppendix 2 (continued)\nCountry\nand year\nCongo\n1995\n2000\n2025\nCOte d'lvoire\n...",
          "Type: PDF<br>Text: Global burden of diabetes\nAppendix 2 (continued)\nCountry\nand year\nNiger\n1995\n2000\n2025\nNigeria\n1995\n...",
          "Type: PDF<br>Text: King, Aubert, and Herman\nReferences\n1. King H, Rewers M, WHO Ad Hoc Diabetes\nReporting Group: Global...",
          "Type: PDF<br>Text: Baseline Characteristics of the Diabetic\nParticipants in the Antihypertensive and\nLipid-Lowering Tre...",
          "Type: PDF<br>Text: for subgroup analyses. Four classes of\nantihypertensive medications are being\nrandomly assigned and ...",
          "Type: PDF<br>Text: and each of the nondiuretic treatments.\nThis calculation assumes a 16% risk re-\nduction in outcome (...",
          "Type: PDF<br>Text: have found similar results. Other studies\nhave shown Hispanic men and women to\nhave poorly controlle...",
          "Type: PDF<br>Text: L, D’Onofrio F: Metabolic and cardiovas-\ncular effects of carvedilol and atenolol in\nnon-insulin dep...",
          "Type: PDF<br>Text: The New England Journal of Medicine is produced by NEJM Group, a division of the Massachusetts Medic...",
          "Type: PDF<br>Text: The New England Journal of Medicine is produced by NEJM Group, a division of the Massachusetts Medic...",
          "Type: PDF<br>Text: The New England Journal of Medicine is produced by NEJM Group, a division of the Massachusetts Medic...",
          "Type: PDF<br>Text: The New England Journal of Medicine is produced by NEJM Group, a division of the Massachusetts Medic...",
          "Type: PDF<br>Text: The New England Journal of Medicine is produced by NEJM Group, a division of the Massachusetts Medic...",
          "Type: PDF<br>Text: The New England Journal of Medicine is produced by NEJM Group, a division of the Massachusetts Medic...",
          "Type: PDF<br>Text: The New England Journal of Medicine is produced by NEJM Group, a division of the Massachusetts Medic...",
          "Type: PDF<br>Text: The New England Journal of Medicine is produced by NEJM Group, a division of the Massachusetts Medic...",
          "Type: PDF<br>Text: The New England Journal of Medicine is produced by NEJM Group, a division of the Massachusetts Medic...",
          "Type: PDF<br>Text: The New England Journal of Medicine is produced by NEJM Group, a division of the Massachusetts Medic...",
          "Type: PDF<br>Text: The New England Journal of Medicine is produced by NEJM Group, a division of the Massachusetts Medic...",
          "Type: PDF<br>Text: The New England Journal of Medicine is produced by NEJM Group, a division of the Massachusetts Medic...",
          "Type: PDF<br>Text: The New England Journal of Medicine is produced by NEJM Group, a division of the Massachusetts Medic...",
          "Type: PDF<br>Text: The New England Journal of Medicine is produced by NEJM Group, a division of the Massachusetts Medic...",
          "Type: PDF<br>Text: The New England Journal of Medicine is produced by NEJM Group, a division of the Massachusetts Medic...",
          "Type: PDF<br>Text: The New England Journal of Medicine is produced by NEJM Group, a division of the Massachusetts Medic...",
          "Type: PDF<br>Text: The New England Journal of Medicine is produced by NEJM Group, a division of the Massachusetts Medic...",
          "Type: PDF<br>Text: The New England\n \nJournal \n \nof\n \n Medicine\n \nCopyright © 2001 by the Massachusetts Medical Society\n...",
          "Type: PDF<br>Text: 1344\n \n·\n \nN Engl J Med, Vol. 344, No. 18\n \n·\n \nMay 3, 2001\n \n·\n \nwww.nejm.org\n \nThe New England Jou...",
          "Type: PDF<br>Text: LIFESTYLE CHANGES TO PREVENT TYPE 2 DIABETES AMONG SUBJECTS WITH IMPAIRED GLUCOSE TOLERANCE\n \nN Engl...",
          "Type: PDF<br>Text: 1346\n \n·\n \nN Engl J Med, Vol. 344, No. 18\n \n·\n \nMay 3, 2001\n \n·\n \nwww.nejm.org\n \nThe New England Jou...",
          "Type: PDF<br>Text: LIFESTYLE CHANGES TO PREVENT TYPE 2 DIABETES AMONG SUBJECTS WITH IMPAIRED GLUCOSE TOLERANCE\nN Engl J...",
          "Type: PDF<br>Text: 1348 · N Engl J Med, Vol. 344, No. 18 · May 3, 2001 · www.nejm.org\nThe New England Journal of Medici...",
          "Type: PDF<br>Text: LIFESTYLE CHANGES TO PREVENT TYPE 2 DIABETES AMONG SUBJECTS WITH IMPAIRED GLUCOSE TOLERANCE\nN Engl J...",
          "Type: PDF<br>Text: 1350 · N Engl J Med, Vol. 344, No. 18 · May 3, 2001 · www.nejm.org\nThe New England Journal of Medici...",
          "Type: PDF<br>Text: N Engl J Med, Vol. 345, No. 10\n \n·\n \nSeptember 6, 2001\n \n·\n \nwww.nejm.org\n \n·\n \n725\n \nCHEMORADIOTHER...",
          "Type: PDF<br>Text: 726\n \n·\n \nN Engl J Med, Vol. 345, No. 10\n \n·\n \nSeptember 6, 2001\n \n·\n \nwww.nejm.org\n \nThe New Englan...",
          "Type: PDF<br>Text: CHEMORADIOTHERAPY PLUS SURGERY FOR GASTRIC ADENOCARCINOMA\n \nN Engl J Med, Vol. 345, No. 10\n \n·\n \nSep...",
          "Type: PDF<br>Text: 728\n \n·\n \nN Engl J Med, Vol. 345, No. 10\n \n·\n \nSeptember 6, 2001\n \n·\n \nwww.nejm.org\n \nThe New Englan...",
          "Type: PDF<br>Text: CHEMORADIOTHERAPY PLUS SURGERY FOR GASTRIC ADENOCARCINOMA\nN Engl J Med, Vol. 345, No. 10 · September...",
          "Type: PDF<br>Text: 730 · N Engl J Med, Vol. 345, No. 10 · September 6, 2001 · www.nejm.org\nThe New England Journal of M...",
          "Type: PDF<br>Text: n engl j med 358;24  www.nejm.org  june 12, 2008\n2545\nThe new england  \njournal of medicine\nestablis...",
          "Type: PDF<br>Text: The new engl and jour nal of medicine\nn engl j med 358;24  www.nejm.org  june 12, 2008\n2546\nT\nype 2 ...",
          "Type: PDF<br>Text: Intensive Glucose Lowering in Type 2 Diabetes\nn engl j med 358;24  www.nejm.org  june 12, 2008\n2547\n...",
          "Type: PDF<br>Text: The new engl and jour nal of medicine\nn engl j med 358;24  www.nejm.org  june 12, 2008\n2548\nTable 1....",
          "Type: PDF<br>Text: Intensive Glucose Lowering in Type 2 Diabetes\nn engl j med 358;24  www.nejm.org  june 12, 2008\n2549\n...",
          "Type: PDF<br>Text: The new engl and jour nal of medicine\nn engl j med 358;24  www.nejm.org  june 12, 2008\n2550\nat the t...",
          "Type: PDF<br>Text: Intensive Glucose Lowering in Type 2 Diabetes\nn engl j med 358;24  www.nejm.org  june 12, 2008\n2551\n...",
          "Type: PDF<br>Text: The new engl and jour nal of medicine\nn engl j med 358;24  www.nejm.org  june 12, 2008\n2552\nzone), w...",
          "Type: PDF<br>Text: Intensive Glucose Lowering in Type 2 Diabetes\nn engl j med 358;24  www.nejm.org  june 12, 2008\n2553\n...",
          "Type: PDF<br>Text: The new engl and jour nal of medicine\nn engl j med 358;24  www.nejm.org  june 12, 2008\n2554\nfied any...",
          "Type: PDF<br>Text: Intensive Glucose Lowering in Type 2 Diabetes\nn engl j med 358;24  www.nejm.org  june 12, 2008\n2555\n...",
          "Type: PDF<br>Text: The new engl and jour nal of medicine\nn engl j med 358;24  www.nejm.org  june 12, 2008\n2556\nties. Fi...",
          "Type: PDF<br>Text: Intensive Glucose Lowering in Type 2 Diabetes\nn engl j med 358;24  www.nejm.org  june 12, 2008\n2557\n...",
          "Type: PDF<br>Text: The new engl and jour nal of medicine\nn engl j med 358;24  www.nejm.org  june 12, 2008\n2558\nStewart....",
          "Type: PDF<br>Text: Intensive Glucose Lowering in Type 2 Diabetes\nn engl j med 358;24  www.nejm.org  june 12, 2008\n2559\n...",
          "Type: PDF<br>Text: original article\nThe new engl and jour nal of medicine\nn engl j med 358;24  www.nejm.org  june 12, 2...",
          "Type: PDF<br>Text: Intensive Blood Glucose Control and Vascular Outcomes in Type 2 Diabetes\nn engl j med 358;24  www.ne...",
          "Type: PDF<br>Text: The new engl and jour nal of medicine\nn engl j med 358;24  www.nejm.org  june 12, 2008\n2562\nfasting ...",
          "Type: PDF<br>Text: Intensive Blood Glucose Control and Vascular Outcomes in Type 2 Diabetes\nn engl j med 358;24  www.ne...",
          "Type: PDF<br>Text: The new engl and jour nal of medicine\nn engl j med 358;24  www.nejm.org  june 12, 2008\n2564\nTable 1....",
          "Type: PDF<br>Text: Intensive Blood Glucose Control and Vascular Outcomes in Type 2 Diabetes\nn engl j med 358;24  www.ne...",
          "Type: PDF<br>Text: The new engl and jour nal of medicine\nn engl j med 358;24  www.nejm.org  june 12, 2008\n2566\npost-ran...",
          "Type: PDF<br>Text: Intensive Blood Glucose Control and Vascular Outcomes in Type 2 Diabetes\nn engl j med 358;24  www.ne...",
          "Type: PDF<br>Text: The new engl and jour nal of medicine\nn engl j med 358;24  www.nejm.org  june 12, 2008\n2568\nfor any ...",
          "Type: PDF<br>Text: Intensive Blood Glucose Control and Vascular Outcomes in Type 2 Diabetes\nn engl j med 358;24  www.ne...",
          "Type: PDF<br>Text: The new engl and jour nal of medicine\nn engl j med 358;24  www.nejm.org  june 12, 2008\n2570\nIntensiv...",
          "Type: PDF<br>Text: Intensive Blood Glucose Control and Vascular Outcomes in Type 2 Diabetes\nn engl j med 358;24  www.ne...",
          "Type: PDF<br>Text: n engl j med 358;24  www.nejm.org  june 12, 2008\n2572\nIntensive Blood Glucose Control and Vascular O...",
          "Type: PDF<br>Text: leitlinien für die praxis\nWien Klin Wochenschr (2023) 135 (Suppl 1):S7–S17\nhttps://doi.org/10.1007/s...",
          "Type: PDF<br>Text: leitlinien für die praxis\nRisiko für vaskuläre Erkrankungen (koronare Herz-\nkrankheit, Schlaganfall)...",
          "Type: PDF<br>Text: leitlinien für die praxis\ndere genetische Syndrome (z.B. Down-, Klinefelter-,\nTurner-Syndrome), Infe...",
          "Type: PDF<br>Text: leitlinien für die praxis\n\u0002 Bei Situationen/Erkrankungen mit erhöhtem Ery-\nthrozytenumsatz (z.B. Sch...",
          "Type: PDF<br>Text: leitlinien für die praxis\nGlukosebestimmung (Zeitpunkt 120min nach\nGlukoseaufnahme)\n\u0002 Kontraindikati...",
          "Type: PDF<br>Text: leitlinien für die praxis\nTab. 4\nAusgewählte Studien zur Prävention des Typ 2 Diabetes mittels Leben...",
          "Type: PDF<br>Text: leitlinien für die praxis\nwicht und Adipositas zu langfristiger Reduktion des\nKörpergewichts um mind...",
          "Type: PDF<br>Text: leitlinien für die praxis\nTab. 5\nAusgewählte Medikamente in der Prävention von Typ 2 Diabetes. Die A...",
          "Type: PDF<br>Text: leitlinien für die praxis\nkeiten vorliegen [36]. Im Fall eines positiven Nachwei-\nses von Autoantikö...",
          "Type: PDF<br>Text: leitlinien für die praxis\ntion Program Outcomes Study (DPPOS). Diabetes Care.\n2019;42(9):1809–15.\n24...",
          "Type: PDF<br>Text: leitlinien für die praxis\n59. ORIGIN Trial Investigators, Gerstein HC, Bosch J, et al.\nBasal insulin..."
         ],
         "type": "scatter3d",
         "x": [
          -13.395196,
          -9.174851,
          -19.244274,
          -44.804577,
          -12.833507,
          -1.95341,
          114.43499,
          -75.90883,
          42.519756,
          62.628178,
          -32.65304,
          25.166632,
          22.176592,
          -17.664202,
          -29.564789,
          -86.88609,
          48.63446,
          45.857265,
          75.50249,
          33.095894,
          110.15552,
          41.03539,
          61.176266,
          68.514305,
          89.90891,
          61.230522,
          70.27014,
          89.90818,
          60.740482,
          72.98287,
          74.1159,
          89.23089,
          9.628929,
          7.111457,
          -10.5129795,
          -31.25064,
          -51.703457,
          -8.272239,
          -28.15644,
          -27.802849,
          -55.033512,
          -30.186222,
          -19.184864,
          -37.331318,
          -37.331318,
          -54.947105,
          -3.1354215,
          19.353498,
          -25.355074,
          4.699694,
          -42.006626,
          -1.2125967,
          -19.184864,
          1.7784432,
          -0.44475183,
          62.848946,
          60.91039,
          77.98926,
          44.64724,
          57.51409,
          43.13102,
          72.955376,
          21.308708,
          -106.04547,
          -65.681145,
          -103.14382,
          -78.71101,
          -82.449974,
          -97.44498,
          17.971506,
          -6.933047,
          15.490912,
          55.389244,
          -47.263565,
          6.4696703,
          -21.584303,
          -68.49316,
          -9.307777,
          -17.198503,
          15.035196,
          -53.324867,
          34.527733,
          -2.3425148,
          -10.303008,
          18.373865,
          10.683021,
          -16.223043,
          2.8619645,
          28.122423,
          -34.56002,
          -3.0929377,
          6.8377886,
          -42.967224,
          -34.838314,
          21.526709,
          26.201284,
          -3.7799916,
          -42.549145,
          -67.89051,
          -44.937744,
          -54.3302,
          -56.42438,
          -52.68087,
          -72.28495,
          -33.46658,
          -29.787857,
          93.101006,
          22.658052
         ],
         "y": [
          74.33502,
          49.739517,
          61.192043,
          65.12644,
          32.584297,
          58.604836,
          11.998496,
          3.1002848,
          99.87737,
          89.0924,
          -6.3734307,
          -20.430077,
          14.7326,
          22.87182,
          94.21014,
          50.8711,
          45.188957,
          49.44073,
          45.30732,
          34.339436,
          -21.255781,
          2.8787405,
          11.105645,
          13.305945,
          -36.496384,
          -14.819996,
          -62.518528,
          6.194446,
          -35.796818,
          -18.744665,
          -52.927734,
          -11.120174,
          10.721033,
          -80.20827,
          -70.89995,
          63.962883,
          83.10774,
          -37.972687,
          -117.8011,
          -72.2271,
          -68.15807,
          -99.49733,
          -83.93883,
          -63.706367,
          -63.706367,
          -94.410934,
          -79.521355,
          -82.69486,
          -50.464325,
          -67.13346,
          -99.94676,
          -102.506004,
          -83.93883,
          -109.077446,
          -55.274616,
          30.54901,
          -13.062673,
          5.9611325,
          3.7752566,
          25.431673,
          17.935333,
          16.546223,
          80.01354,
          -10.216611,
          3.8107216,
          -15.268969,
          -27.406021,
          -2.7925196,
          16.879038,
          -34.67972,
          16.994802,
          24.153038,
          75.26551,
          19.925362,
          49.945103,
          24.852722,
          -3.6702812,
          37.198673,
          44.363724,
          -12.16567,
          -27.709864,
          -49.785736,
          -15.58612,
          -11.2055235,
          -42.52698,
          14.496625,
          -2.6387808,
          38.407948,
          72.788025,
          24.225513,
          7.161405,
          82.51841,
          -13.672627,
          56.179485,
          -15.66234,
          54.17445,
          81.90895,
          46.273716,
          45.55359,
          35.326893,
          68.17282,
          18.476175,
          -26.80983,
          1.8643837,
          -18.746069,
          -21.227552,
          52.874184,
          -18.850876
         ],
         "z": [
          -28.00367,
          -50.086452,
          -72.52375,
          -76.821014,
          -77.660835,
          -99.646,
          13.230528,
          -15.141311,
          -21.503159,
          -14.433826,
          -34.932648,
          53.17424,
          -90.22209,
          -103.06787,
          -58.243473,
          -4.246618,
          -69.813934,
          -22.248543,
          -31.31123,
          -44.253113,
          -25.774015,
          -38.885582,
          -15.471897,
          -47.545315,
          10.073612,
          -55.67168,
          16.53787,
          -28.588123,
          6.073714,
          -27.823874,
          -11.279093,
          -52.411884,
          -58.75949,
          -62.50804,
          -48.320816,
          70.324974,
          60.052307,
          -33.36281,
          23.48894,
          -10.079603,
          12.4552555,
          55.83395,
          23.152159,
          47.1558,
          47.1558,
          32.42934,
          58.18869,
          27.851418,
          15.266069,
          1.8953362,
          -2.0638368,
          -0.36858392,
          23.152159,
          38.45039,
          35.826725,
          16.99742,
          65.80641,
          39.231136,
          34.769318,
          51.406246,
          74.37334,
          71.627045,
          -61.77027,
          19.476019,
          69.48979,
          44.924736,
          51.68917,
          30.698723,
          41.368336,
          -55.018524,
          -23.112255,
          38.3298,
          34.903934,
          13.54051,
          -0.58859086,
          81.58546,
          -90.09447,
          29.50848,
          0.5501698,
          20.129066,
          -10.576549,
          -40.431206,
          93.30915,
          -5.1885214,
          77.052155,
          5.5999823,
          34.156013,
          70.584236,
          21.011467,
          46.890255,
          52.79412,
          57.086876,
          16.663315,
          31.484415,
          -7.7667933,
          54.92509,
          23.721184,
          -30.309856,
          -43.666416,
          -67.84736,
          -24.177223,
          -41.109524,
          -62.568077,
          -53.45959,
          -74.620476,
          76.9425,
          24.699877,
          -88.068886
         ]
        }
       ],
       "layout": {
        "height": 700,
        "margin": {
         "b": 10,
         "l": 10,
         "r": 20,
         "t": 40
        },
        "scene": {
         "xaxis": {
          "title": {
           "text": "x"
          }
         },
         "yaxis": {
          "title": {
           "text": "y"
          }
         },
         "zaxis": {
          "title": {
           "text": "z"
          }
         }
        },
        "template": {
         "data": {
          "bar": [
           {
            "error_x": {
             "color": "#2a3f5f"
            },
            "error_y": {
             "color": "#2a3f5f"
            },
            "marker": {
             "line": {
              "color": "#E5ECF6",
              "width": 0.5
             },
             "pattern": {
              "fillmode": "overlay",
              "size": 10,
              "solidity": 0.2
             }
            },
            "type": "bar"
           }
          ],
          "barpolar": [
           {
            "marker": {
             "line": {
              "color": "#E5ECF6",
              "width": 0.5
             },
             "pattern": {
              "fillmode": "overlay",
              "size": 10,
              "solidity": 0.2
             }
            },
            "type": "barpolar"
           }
          ],
          "carpet": [
           {
            "aaxis": {
             "endlinecolor": "#2a3f5f",
             "gridcolor": "white",
             "linecolor": "white",
             "minorgridcolor": "white",
             "startlinecolor": "#2a3f5f"
            },
            "baxis": {
             "endlinecolor": "#2a3f5f",
             "gridcolor": "white",
             "linecolor": "white",
             "minorgridcolor": "white",
             "startlinecolor": "#2a3f5f"
            },
            "type": "carpet"
           }
          ],
          "choropleth": [
           {
            "colorbar": {
             "outlinewidth": 0,
             "ticks": ""
            },
            "type": "choropleth"
           }
          ],
          "contour": [
           {
            "colorbar": {
             "outlinewidth": 0,
             "ticks": ""
            },
            "colorscale": [
             [
              0,
              "#0d0887"
             ],
             [
              0.1111111111111111,
              "#46039f"
             ],
             [
              0.2222222222222222,
              "#7201a8"
             ],
             [
              0.3333333333333333,
              "#9c179e"
             ],
             [
              0.4444444444444444,
              "#bd3786"
             ],
             [
              0.5555555555555556,
              "#d8576b"
             ],
             [
              0.6666666666666666,
              "#ed7953"
             ],
             [
              0.7777777777777778,
              "#fb9f3a"
             ],
             [
              0.8888888888888888,
              "#fdca26"
             ],
             [
              1,
              "#f0f921"
             ]
            ],
            "type": "contour"
           }
          ],
          "contourcarpet": [
           {
            "colorbar": {
             "outlinewidth": 0,
             "ticks": ""
            },
            "type": "contourcarpet"
           }
          ],
          "heatmap": [
           {
            "colorbar": {
             "outlinewidth": 0,
             "ticks": ""
            },
            "colorscale": [
             [
              0,
              "#0d0887"
             ],
             [
              0.1111111111111111,
              "#46039f"
             ],
             [
              0.2222222222222222,
              "#7201a8"
             ],
             [
              0.3333333333333333,
              "#9c179e"
             ],
             [
              0.4444444444444444,
              "#bd3786"
             ],
             [
              0.5555555555555556,
              "#d8576b"
             ],
             [
              0.6666666666666666,
              "#ed7953"
             ],
             [
              0.7777777777777778,
              "#fb9f3a"
             ],
             [
              0.8888888888888888,
              "#fdca26"
             ],
             [
              1,
              "#f0f921"
             ]
            ],
            "type": "heatmap"
           }
          ],
          "heatmapgl": [
           {
            "colorbar": {
             "outlinewidth": 0,
             "ticks": ""
            },
            "colorscale": [
             [
              0,
              "#0d0887"
             ],
             [
              0.1111111111111111,
              "#46039f"
             ],
             [
              0.2222222222222222,
              "#7201a8"
             ],
             [
              0.3333333333333333,
              "#9c179e"
             ],
             [
              0.4444444444444444,
              "#bd3786"
             ],
             [
              0.5555555555555556,
              "#d8576b"
             ],
             [
              0.6666666666666666,
              "#ed7953"
             ],
             [
              0.7777777777777778,
              "#fb9f3a"
             ],
             [
              0.8888888888888888,
              "#fdca26"
             ],
             [
              1,
              "#f0f921"
             ]
            ],
            "type": "heatmapgl"
           }
          ],
          "histogram": [
           {
            "marker": {
             "pattern": {
              "fillmode": "overlay",
              "size": 10,
              "solidity": 0.2
             }
            },
            "type": "histogram"
           }
          ],
          "histogram2d": [
           {
            "colorbar": {
             "outlinewidth": 0,
             "ticks": ""
            },
            "colorscale": [
             [
              0,
              "#0d0887"
             ],
             [
              0.1111111111111111,
              "#46039f"
             ],
             [
              0.2222222222222222,
              "#7201a8"
             ],
             [
              0.3333333333333333,
              "#9c179e"
             ],
             [
              0.4444444444444444,
              "#bd3786"
             ],
             [
              0.5555555555555556,
              "#d8576b"
             ],
             [
              0.6666666666666666,
              "#ed7953"
             ],
             [
              0.7777777777777778,
              "#fb9f3a"
             ],
             [
              0.8888888888888888,
              "#fdca26"
             ],
             [
              1,
              "#f0f921"
             ]
            ],
            "type": "histogram2d"
           }
          ],
          "histogram2dcontour": [
           {
            "colorbar": {
             "outlinewidth": 0,
             "ticks": ""
            },
            "colorscale": [
             [
              0,
              "#0d0887"
             ],
             [
              0.1111111111111111,
              "#46039f"
             ],
             [
              0.2222222222222222,
              "#7201a8"
             ],
             [
              0.3333333333333333,
              "#9c179e"
             ],
             [
              0.4444444444444444,
              "#bd3786"
             ],
             [
              0.5555555555555556,
              "#d8576b"
             ],
             [
              0.6666666666666666,
              "#ed7953"
             ],
             [
              0.7777777777777778,
              "#fb9f3a"
             ],
             [
              0.8888888888888888,
              "#fdca26"
             ],
             [
              1,
              "#f0f921"
             ]
            ],
            "type": "histogram2dcontour"
           }
          ],
          "mesh3d": [
           {
            "colorbar": {
             "outlinewidth": 0,
             "ticks": ""
            },
            "type": "mesh3d"
           }
          ],
          "parcoords": [
           {
            "line": {
             "colorbar": {
              "outlinewidth": 0,
              "ticks": ""
             }
            },
            "type": "parcoords"
           }
          ],
          "pie": [
           {
            "automargin": true,
            "type": "pie"
           }
          ],
          "scatter": [
           {
            "fillpattern": {
             "fillmode": "overlay",
             "size": 10,
             "solidity": 0.2
            },
            "type": "scatter"
           }
          ],
          "scatter3d": [
           {
            "line": {
             "colorbar": {
              "outlinewidth": 0,
              "ticks": ""
             }
            },
            "marker": {
             "colorbar": {
              "outlinewidth": 0,
              "ticks": ""
             }
            },
            "type": "scatter3d"
           }
          ],
          "scattercarpet": [
           {
            "marker": {
             "colorbar": {
              "outlinewidth": 0,
              "ticks": ""
             }
            },
            "type": "scattercarpet"
           }
          ],
          "scattergeo": [
           {
            "marker": {
             "colorbar": {
              "outlinewidth": 0,
              "ticks": ""
             }
            },
            "type": "scattergeo"
           }
          ],
          "scattergl": [
           {
            "marker": {
             "colorbar": {
              "outlinewidth": 0,
              "ticks": ""
             }
            },
            "type": "scattergl"
           }
          ],
          "scattermapbox": [
           {
            "marker": {
             "colorbar": {
              "outlinewidth": 0,
              "ticks": ""
             }
            },
            "type": "scattermapbox"
           }
          ],
          "scatterpolar": [
           {
            "marker": {
             "colorbar": {
              "outlinewidth": 0,
              "ticks": ""
             }
            },
            "type": "scatterpolar"
           }
          ],
          "scatterpolargl": [
           {
            "marker": {
             "colorbar": {
              "outlinewidth": 0,
              "ticks": ""
             }
            },
            "type": "scatterpolargl"
           }
          ],
          "scatterternary": [
           {
            "marker": {
             "colorbar": {
              "outlinewidth": 0,
              "ticks": ""
             }
            },
            "type": "scatterternary"
           }
          ],
          "surface": [
           {
            "colorbar": {
             "outlinewidth": 0,
             "ticks": ""
            },
            "colorscale": [
             [
              0,
              "#0d0887"
             ],
             [
              0.1111111111111111,
              "#46039f"
             ],
             [
              0.2222222222222222,
              "#7201a8"
             ],
             [
              0.3333333333333333,
              "#9c179e"
             ],
             [
              0.4444444444444444,
              "#bd3786"
             ],
             [
              0.5555555555555556,
              "#d8576b"
             ],
             [
              0.6666666666666666,
              "#ed7953"
             ],
             [
              0.7777777777777778,
              "#fb9f3a"
             ],
             [
              0.8888888888888888,
              "#fdca26"
             ],
             [
              1,
              "#f0f921"
             ]
            ],
            "type": "surface"
           }
          ],
          "table": [
           {
            "cells": {
             "fill": {
              "color": "#EBF0F8"
             },
             "line": {
              "color": "white"
             }
            },
            "header": {
             "fill": {
              "color": "#C8D4E3"
             },
             "line": {
              "color": "white"
             }
            },
            "type": "table"
           }
          ]
         },
         "layout": {
          "annotationdefaults": {
           "arrowcolor": "#2a3f5f",
           "arrowhead": 0,
           "arrowwidth": 1
          },
          "autotypenumbers": "strict",
          "coloraxis": {
           "colorbar": {
            "outlinewidth": 0,
            "ticks": ""
           }
          },
          "colorscale": {
           "diverging": [
            [
             0,
             "#8e0152"
            ],
            [
             0.1,
             "#c51b7d"
            ],
            [
             0.2,
             "#de77ae"
            ],
            [
             0.3,
             "#f1b6da"
            ],
            [
             0.4,
             "#fde0ef"
            ],
            [
             0.5,
             "#f7f7f7"
            ],
            [
             0.6,
             "#e6f5d0"
            ],
            [
             0.7,
             "#b8e186"
            ],
            [
             0.8,
             "#7fbc41"
            ],
            [
             0.9,
             "#4d9221"
            ],
            [
             1,
             "#276419"
            ]
           ],
           "sequential": [
            [
             0,
             "#0d0887"
            ],
            [
             0.1111111111111111,
             "#46039f"
            ],
            [
             0.2222222222222222,
             "#7201a8"
            ],
            [
             0.3333333333333333,
             "#9c179e"
            ],
            [
             0.4444444444444444,
             "#bd3786"
            ],
            [
             0.5555555555555556,
             "#d8576b"
            ],
            [
             0.6666666666666666,
             "#ed7953"
            ],
            [
             0.7777777777777778,
             "#fb9f3a"
            ],
            [
             0.8888888888888888,
             "#fdca26"
            ],
            [
             1,
             "#f0f921"
            ]
           ],
           "sequentialminus": [
            [
             0,
             "#0d0887"
            ],
            [
             0.1111111111111111,
             "#46039f"
            ],
            [
             0.2222222222222222,
             "#7201a8"
            ],
            [
             0.3333333333333333,
             "#9c179e"
            ],
            [
             0.4444444444444444,
             "#bd3786"
            ],
            [
             0.5555555555555556,
             "#d8576b"
            ],
            [
             0.6666666666666666,
             "#ed7953"
            ],
            [
             0.7777777777777778,
             "#fb9f3a"
            ],
            [
             0.8888888888888888,
             "#fdca26"
            ],
            [
             1,
             "#f0f921"
            ]
           ]
          },
          "colorway": [
           "#636efa",
           "#EF553B",
           "#00cc96",
           "#ab63fa",
           "#FFA15A",
           "#19d3f3",
           "#FF6692",
           "#B6E880",
           "#FF97FF",
           "#FECB52"
          ],
          "font": {
           "color": "#2a3f5f"
          },
          "geo": {
           "bgcolor": "white",
           "lakecolor": "white",
           "landcolor": "#E5ECF6",
           "showlakes": true,
           "showland": true,
           "subunitcolor": "white"
          },
          "hoverlabel": {
           "align": "left"
          },
          "hovermode": "closest",
          "mapbox": {
           "style": "light"
          },
          "paper_bgcolor": "white",
          "plot_bgcolor": "#E5ECF6",
          "polar": {
           "angularaxis": {
            "gridcolor": "white",
            "linecolor": "white",
            "ticks": ""
           },
           "bgcolor": "#E5ECF6",
           "radialaxis": {
            "gridcolor": "white",
            "linecolor": "white",
            "ticks": ""
           }
          },
          "scene": {
           "xaxis": {
            "backgroundcolor": "#E5ECF6",
            "gridcolor": "white",
            "gridwidth": 2,
            "linecolor": "white",
            "showbackground": true,
            "ticks": "",
            "zerolinecolor": "white"
           },
           "yaxis": {
            "backgroundcolor": "#E5ECF6",
            "gridcolor": "white",
            "gridwidth": 2,
            "linecolor": "white",
            "showbackground": true,
            "ticks": "",
            "zerolinecolor": "white"
           },
           "zaxis": {
            "backgroundcolor": "#E5ECF6",
            "gridcolor": "white",
            "gridwidth": 2,
            "linecolor": "white",
            "showbackground": true,
            "ticks": "",
            "zerolinecolor": "white"
           }
          },
          "shapedefaults": {
           "line": {
            "color": "#2a3f5f"
           }
          },
          "ternary": {
           "aaxis": {
            "gridcolor": "white",
            "linecolor": "white",
            "ticks": ""
           },
           "baxis": {
            "gridcolor": "white",
            "linecolor": "white",
            "ticks": ""
           },
           "bgcolor": "#E5ECF6",
           "caxis": {
            "gridcolor": "white",
            "linecolor": "white",
            "ticks": ""
           }
          },
          "title": {
           "x": 0.05
          },
          "xaxis": {
           "automargin": true,
           "gridcolor": "white",
           "linecolor": "white",
           "ticks": "",
           "title": {
            "standoff": 15
           },
           "zerolinecolor": "white",
           "zerolinewidth": 2
          },
          "yaxis": {
           "automargin": true,
           "gridcolor": "white",
           "linecolor": "white",
           "ticks": "",
           "title": {
            "standoff": 15
           },
           "zerolinecolor": "white",
           "zerolinewidth": 2
          }
         }
        },
        "title": {
         "text": "3D Chroma Vector Store Visualization"
        },
        "width": 900
       }
      }
     },
     "metadata": {},
     "output_type": "display_data"
    }
   ],
   "source": [
    "# Let's try 3D!\n",
    "\n",
    "tsne = TSNE(n_components=3, random_state=42)\n",
    "reduced_vectors = tsne.fit_transform(vectors)\n",
    "\n",
    "# Create the 3D scatter plot\n",
    "fig = go.Figure(data=[go.Scatter3d(\n",
    "    x=reduced_vectors[:, 0],\n",
    "    y=reduced_vectors[:, 1],\n",
    "    z=reduced_vectors[:, 2],\n",
    "    mode='markers',\n",
    "    marker=dict(size=5, color=colors, opacity=0.8),\n",
    "    text=[f\"Type: {t}<br>Text: {d[:100]}...\" for t, d in zip(doc_types, documents)],\n",
    "    hoverinfo='text'\n",
    ")])\n",
    "\n",
    "fig.update_layout(\n",
    "    title='3D Chroma Vector Store Visualization',\n",
    "    scene=dict(xaxis_title='x', yaxis_title='y', zaxis_title='z'),\n",
    "    width=900,\n",
    "    height=700,\n",
    "    margin=dict(r=20, b=10, l=10, t=40)\n",
    ")\n",
    "\n",
    "fig.show()"
   ]
  },
  {
   "cell_type": "code",
   "execution_count": 23,
   "id": "d76a8ef6",
   "metadata": {},
   "outputs": [
    {
     "name": "stdout",
     "output_type": "stream",
     "text": [
      "Collecting langchain-google-genai\n",
      "  Using cached langchain_google_genai-2.1.4-py3-none-any.whl.metadata (5.2 kB)\n",
      "Requirement already satisfied: pillow in c:\\users\\lukag\\appdata\\local\\programs\\python\\python311\\lib\\site-packages (11.1.0)\n",
      "Collecting pillow\n",
      "  Downloading pillow-11.2.1-cp311-cp311-win_amd64.whl.metadata (9.1 kB)\n",
      "Collecting filetype<2.0.0,>=1.2.0 (from langchain-google-genai)\n",
      "  Using cached filetype-1.2.0-py2.py3-none-any.whl.metadata (6.5 kB)\n",
      "Collecting google-ai-generativelanguage<0.7.0,>=0.6.18 (from langchain-google-genai)\n",
      "  Using cached google_ai_generativelanguage-0.6.18-py3-none-any.whl.metadata (9.8 kB)\n",
      "Requirement already satisfied: langchain-core<0.4.0,>=0.3.52 in c:\\users\\lukag\\appdata\\local\\programs\\python\\python311\\lib\\site-packages (from langchain-google-genai) (0.3.59)\n",
      "Requirement already satisfied: pydantic<3,>=2 in c:\\users\\lukag\\appdata\\local\\programs\\python\\python311\\lib\\site-packages (from langchain-google-genai) (2.10.3)\n",
      "Requirement already satisfied: google-api-core!=2.0.*,!=2.1.*,!=2.10.*,!=2.2.*,!=2.3.*,!=2.4.*,!=2.5.*,!=2.6.*,!=2.7.*,!=2.8.*,!=2.9.*,<3.0.0,>=1.34.1 in c:\\users\\lukag\\appdata\\local\\programs\\python\\python311\\lib\\site-packages (from google-api-core[grpc]!=2.0.*,!=2.1.*,!=2.10.*,!=2.2.*,!=2.3.*,!=2.4.*,!=2.5.*,!=2.6.*,!=2.7.*,!=2.8.*,!=2.9.*,<3.0.0,>=1.34.1->google-ai-generativelanguage<0.7.0,>=0.6.18->langchain-google-genai) (2.24.2)\n",
      "Requirement already satisfied: google-auth!=2.24.0,!=2.25.0,<3.0.0,>=2.14.1 in c:\\users\\lukag\\appdata\\local\\programs\\python\\python311\\lib\\site-packages (from google-ai-generativelanguage<0.7.0,>=0.6.18->langchain-google-genai) (2.38.0)\n",
      "Requirement already satisfied: proto-plus<2.0.0,>=1.22.3 in c:\\users\\lukag\\appdata\\local\\programs\\python\\python311\\lib\\site-packages (from google-ai-generativelanguage<0.7.0,>=0.6.18->langchain-google-genai) (1.26.1)\n",
      "Requirement already satisfied: protobuf!=4.21.0,!=4.21.1,!=4.21.2,!=4.21.3,!=4.21.4,!=4.21.5,<7.0.0,>=3.20.2 in c:\\users\\lukag\\appdata\\local\\programs\\python\\python311\\lib\\site-packages (from google-ai-generativelanguage<0.7.0,>=0.6.18->langchain-google-genai) (5.29.4)\n",
      "Requirement already satisfied: googleapis-common-protos<2.0.0,>=1.56.2 in c:\\users\\lukag\\appdata\\local\\programs\\python\\python311\\lib\\site-packages (from google-api-core!=2.0.*,!=2.1.*,!=2.10.*,!=2.2.*,!=2.3.*,!=2.4.*,!=2.5.*,!=2.6.*,!=2.7.*,!=2.8.*,!=2.9.*,<3.0.0,>=1.34.1->google-api-core[grpc]!=2.0.*,!=2.1.*,!=2.10.*,!=2.2.*,!=2.3.*,!=2.4.*,!=2.5.*,!=2.6.*,!=2.7.*,!=2.8.*,!=2.9.*,<3.0.0,>=1.34.1->google-ai-generativelanguage<0.7.0,>=0.6.18->langchain-google-genai) (1.69.1)\n",
      "Requirement already satisfied: requests<3.0.0,>=2.18.0 in c:\\users\\lukag\\appdata\\local\\programs\\python\\python311\\lib\\site-packages (from google-api-core!=2.0.*,!=2.1.*,!=2.10.*,!=2.2.*,!=2.3.*,!=2.4.*,!=2.5.*,!=2.6.*,!=2.7.*,!=2.8.*,!=2.9.*,<3.0.0,>=1.34.1->google-api-core[grpc]!=2.0.*,!=2.1.*,!=2.10.*,!=2.2.*,!=2.3.*,!=2.4.*,!=2.5.*,!=2.6.*,!=2.7.*,!=2.8.*,!=2.9.*,<3.0.0,>=1.34.1->google-ai-generativelanguage<0.7.0,>=0.6.18->langchain-google-genai) (2.32.3)\n",
      "Requirement already satisfied: grpcio<2.0dev,>=1.33.2 in c:\\users\\lukag\\appdata\\local\\programs\\python\\python311\\lib\\site-packages (from google-api-core[grpc]!=2.0.*,!=2.1.*,!=2.10.*,!=2.2.*,!=2.3.*,!=2.4.*,!=2.5.*,!=2.6.*,!=2.7.*,!=2.8.*,!=2.9.*,<3.0.0,>=1.34.1->google-ai-generativelanguage<0.7.0,>=0.6.18->langchain-google-genai) (1.72.0rc1)\n",
      "Requirement already satisfied: grpcio-status<2.0.dev0,>=1.33.2 in c:\\users\\lukag\\appdata\\local\\programs\\python\\python311\\lib\\site-packages (from google-api-core[grpc]!=2.0.*,!=2.1.*,!=2.10.*,!=2.2.*,!=2.3.*,!=2.4.*,!=2.5.*,!=2.6.*,!=2.7.*,!=2.8.*,!=2.9.*,<3.0.0,>=1.34.1->google-ai-generativelanguage<0.7.0,>=0.6.18->langchain-google-genai) (1.71.0)\n",
      "Requirement already satisfied: cachetools<6.0,>=2.0.0 in c:\\users\\lukag\\appdata\\local\\programs\\python\\python311\\lib\\site-packages (from google-auth!=2.24.0,!=2.25.0,<3.0.0,>=2.14.1->google-ai-generativelanguage<0.7.0,>=0.6.18->langchain-google-genai) (5.5.0)\n",
      "Requirement already satisfied: pyasn1-modules>=0.2.1 in c:\\users\\lukag\\appdata\\local\\programs\\python\\python311\\lib\\site-packages (from google-auth!=2.24.0,!=2.25.0,<3.0.0,>=2.14.1->google-ai-generativelanguage<0.7.0,>=0.6.18->langchain-google-genai) (0.4.1)\n",
      "Requirement already satisfied: rsa<5,>=3.1.4 in c:\\users\\lukag\\appdata\\local\\programs\\python\\python311\\lib\\site-packages (from google-auth!=2.24.0,!=2.25.0,<3.0.0,>=2.14.1->google-ai-generativelanguage<0.7.0,>=0.6.18->langchain-google-genai) (4.9)\n",
      "Requirement already satisfied: langsmith<0.4,>=0.1.125 in c:\\users\\lukag\\appdata\\local\\programs\\python\\python311\\lib\\site-packages (from langchain-core<0.4.0,>=0.3.52->langchain-google-genai) (0.2.3)\n",
      "Requirement already satisfied: tenacity!=8.4.0,<10.0.0,>=8.1.0 in c:\\users\\lukag\\appdata\\local\\programs\\python\\python311\\lib\\site-packages (from langchain-core<0.4.0,>=0.3.52->langchain-google-genai) (9.0.0)\n",
      "Requirement already satisfied: jsonpatch<2.0,>=1.33 in c:\\users\\lukag\\appdata\\local\\programs\\python\\python311\\lib\\site-packages (from langchain-core<0.4.0,>=0.3.52->langchain-google-genai) (1.33)\n",
      "Requirement already satisfied: PyYAML>=5.3 in c:\\users\\lukag\\appdata\\local\\programs\\python\\python311\\lib\\site-packages (from langchain-core<0.4.0,>=0.3.52->langchain-google-genai) (6.0.1)\n",
      "Requirement already satisfied: packaging<25,>=23.2 in c:\\users\\lukag\\appdata\\local\\programs\\python\\python311\\lib\\site-packages (from langchain-core<0.4.0,>=0.3.52->langchain-google-genai) (24.2)\n",
      "Requirement already satisfied: typing-extensions>=4.7 in c:\\users\\lukag\\appdata\\local\\programs\\python\\python311\\lib\\site-packages (from langchain-core<0.4.0,>=0.3.52->langchain-google-genai) (4.12.2)\n",
      "Requirement already satisfied: jsonpointer>=1.9 in c:\\users\\lukag\\appdata\\local\\programs\\python\\python311\\lib\\site-packages (from jsonpatch<2.0,>=1.33->langchain-core<0.4.0,>=0.3.52->langchain-google-genai) (3.0.0)\n",
      "Requirement already satisfied: httpx<1,>=0.23.0 in c:\\users\\lukag\\appdata\\local\\programs\\python\\python311\\lib\\site-packages (from langsmith<0.4,>=0.1.125->langchain-core<0.4.0,>=0.3.52->langchain-google-genai) (0.28.1)\n",
      "Requirement already satisfied: orjson<4.0.0,>=3.9.14 in c:\\users\\lukag\\appdata\\local\\programs\\python\\python311\\lib\\site-packages (from langsmith<0.4,>=0.1.125->langchain-core<0.4.0,>=0.3.52->langchain-google-genai) (3.10.12)\n",
      "Requirement already satisfied: requests-toolbelt<2.0.0,>=1.0.0 in c:\\users\\lukag\\appdata\\local\\programs\\python\\python311\\lib\\site-packages (from langsmith<0.4,>=0.1.125->langchain-core<0.4.0,>=0.3.52->langchain-google-genai) (1.0.0)\n",
      "Requirement already satisfied: anyio in c:\\users\\lukag\\appdata\\local\\programs\\python\\python311\\lib\\site-packages (from httpx<1,>=0.23.0->langsmith<0.4,>=0.1.125->langchain-core<0.4.0,>=0.3.52->langchain-google-genai) (4.7.0)\n",
      "Requirement already satisfied: certifi in c:\\users\\lukag\\appdata\\local\\programs\\python\\python311\\lib\\site-packages (from httpx<1,>=0.23.0->langsmith<0.4,>=0.1.125->langchain-core<0.4.0,>=0.3.52->langchain-google-genai) (2024.2.2)\n",
      "Requirement already satisfied: httpcore==1.* in c:\\users\\lukag\\appdata\\local\\programs\\python\\python311\\lib\\site-packages (from httpx<1,>=0.23.0->langsmith<0.4,>=0.1.125->langchain-core<0.4.0,>=0.3.52->langchain-google-genai) (1.0.7)\n",
      "Requirement already satisfied: idna in c:\\users\\lukag\\appdata\\local\\programs\\python\\python311\\lib\\site-packages (from httpx<1,>=0.23.0->langsmith<0.4,>=0.1.125->langchain-core<0.4.0,>=0.3.52->langchain-google-genai) (3.7)\n",
      "Requirement already satisfied: h11<0.15,>=0.13 in c:\\users\\lukag\\appdata\\local\\programs\\python\\python311\\lib\\site-packages (from httpcore==1.*->httpx<1,>=0.23.0->langsmith<0.4,>=0.1.125->langchain-core<0.4.0,>=0.3.52->langchain-google-genai) (0.14.0)\n",
      "Requirement already satisfied: annotated-types>=0.6.0 in c:\\users\\lukag\\appdata\\local\\programs\\python\\python311\\lib\\site-packages (from pydantic<3,>=2->langchain-google-genai) (0.7.0)\n",
      "Requirement already satisfied: pydantic-core==2.27.1 in c:\\users\\lukag\\appdata\\local\\programs\\python\\python311\\lib\\site-packages (from pydantic<3,>=2->langchain-google-genai) (2.27.1)\n",
      "Requirement already satisfied: charset-normalizer<4,>=2 in c:\\users\\lukag\\appdata\\local\\programs\\python\\python311\\lib\\site-packages (from requests<3.0.0,>=2.18.0->google-api-core!=2.0.*,!=2.1.*,!=2.10.*,!=2.2.*,!=2.3.*,!=2.4.*,!=2.5.*,!=2.6.*,!=2.7.*,!=2.8.*,!=2.9.*,<3.0.0,>=1.34.1->google-api-core[grpc]!=2.0.*,!=2.1.*,!=2.10.*,!=2.2.*,!=2.3.*,!=2.4.*,!=2.5.*,!=2.6.*,!=2.7.*,!=2.8.*,!=2.9.*,<3.0.0,>=1.34.1->google-ai-generativelanguage<0.7.0,>=0.6.18->langchain-google-genai) (3.3.2)\n",
      "Requirement already satisfied: urllib3<3,>=1.21.1 in c:\\users\\lukag\\appdata\\local\\programs\\python\\python311\\lib\\site-packages (from requests<3.0.0,>=2.18.0->google-api-core!=2.0.*,!=2.1.*,!=2.10.*,!=2.2.*,!=2.3.*,!=2.4.*,!=2.5.*,!=2.6.*,!=2.7.*,!=2.8.*,!=2.9.*,<3.0.0,>=1.34.1->google-api-core[grpc]!=2.0.*,!=2.1.*,!=2.10.*,!=2.2.*,!=2.3.*,!=2.4.*,!=2.5.*,!=2.6.*,!=2.7.*,!=2.8.*,!=2.9.*,<3.0.0,>=1.34.1->google-ai-generativelanguage<0.7.0,>=0.6.18->langchain-google-genai) (2.2.1)\n",
      "Requirement already satisfied: pyasn1>=0.1.3 in c:\\users\\lukag\\appdata\\local\\programs\\python\\python311\\lib\\site-packages (from rsa<5,>=3.1.4->google-auth!=2.24.0,!=2.25.0,<3.0.0,>=2.14.1->google-ai-generativelanguage<0.7.0,>=0.6.18->langchain-google-genai) (0.6.1)\n",
      "Requirement already satisfied: sniffio>=1.1 in c:\\users\\lukag\\appdata\\local\\programs\\python\\python311\\lib\\site-packages (from anyio->httpx<1,>=0.23.0->langsmith<0.4,>=0.1.125->langchain-core<0.4.0,>=0.3.52->langchain-google-genai) (1.3.1)\n",
      "Using cached langchain_google_genai-2.1.4-py3-none-any.whl (44 kB)\n",
      "Using cached filetype-1.2.0-py2.py3-none-any.whl (19 kB)\n",
      "Using cached google_ai_generativelanguage-0.6.18-py3-none-any.whl (1.4 MB)\n",
      "Downloading pillow-11.2.1-cp311-cp311-win_amd64.whl (2.7 MB)\n",
      "   ---------------------------------------- 0.0/2.7 MB ? eta -:--:--\n",
      "   ---------------------------------------- 2.7/2.7 MB 38.3 MB/s eta 0:00:00\n",
      "Installing collected packages: filetype, pillow, google-ai-generativelanguage, langchain-google-genai\n",
      "\n",
      "   ---------------------------------------- 0/4 [filetype]\n",
      "  Attempting uninstall: pillow\n",
      "   ---------------------------------------- 0/4 [filetype]\n",
      "    Found existing installation: pillow 11.1.0\n",
      "   ---------------------------------------- 0/4 [filetype]\n",
      "    Uninstalling pillow-11.1.0:\n",
      "   ---------------------------------------- 0/4 [filetype]\n",
      "      Successfully uninstalled pillow-11.1.0\n",
      "   ---------------------------------------- 0/4 [filetype]\n",
      "   ---------- ----------------------------- 1/4 [pillow]\n",
      "   ---------- ----------------------------- 1/4 [pillow]\n",
      "   ---------- ----------------------------- 1/4 [pillow]\n",
      "   ---------- ----------------------------- 1/4 [pillow]\n",
      "   ---------- ----------------------------- 1/4 [pillow]\n",
      "   ---------- ----------------------------- 1/4 [pillow]\n",
      "   ---------- ----------------------------- 1/4 [pillow]\n",
      "   ---------- ----------------------------- 1/4 [pillow]\n",
      "   ---------- ----------------------------- 1/4 [pillow]\n",
      "   ---------- ----------------------------- 1/4 [pillow]\n",
      "   ---------- ----------------------------- 1/4 [pillow]\n",
      "   ---------- ----------------------------- 1/4 [pillow]\n",
      "   ---------- ----------------------------- 1/4 [pillow]\n",
      "   ---------- ----------------------------- 1/4 [pillow]\n",
      "   ---------- ----------------------------- 1/4 [pillow]\n",
      "   ---------- ----------------------------- 1/4 [pillow]\n",
      "   ---------- ----------------------------- 1/4 [pillow]\n",
      "   ---------- ----------------------------- 1/4 [pillow]\n",
      "   ---------- ----------------------------- 1/4 [pillow]\n",
      "   ---------- ----------------------------- 1/4 [pillow]\n",
      "   ---------- ----------------------------- 1/4 [pillow]\n",
      "   ---------- ----------------------------- 1/4 [pillow]\n",
      "   ---------- ----------------------------- 1/4 [pillow]\n",
      "   ---------- ----------------------------- 1/4 [pillow]\n",
      "   ---------- ----------------------------- 1/4 [pillow]\n",
      "   ---------- ----------------------------- 1/4 [pillow]\n",
      "   ---------- ----------------------------- 1/4 [pillow]\n",
      "   ---------- ----------------------------- 1/4 [pillow]\n",
      "   ---------- ----------------------------- 1/4 [pillow]\n",
      "  Attempting uninstall: google-ai-generativelanguage\n",
      "   ---------- ----------------------------- 1/4 [pillow]\n",
      "    Found existing installation: google-ai-generativelanguage 0.6.15\n",
      "   ---------- ----------------------------- 1/4 [pillow]\n",
      "   -------------------- ------------------- 2/4 [google-ai-generativelanguage]\n",
      "    Uninstalling google-ai-generativelanguage-0.6.15:\n",
      "   -------------------- ------------------- 2/4 [google-ai-generativelanguage]\n",
      "   -------------------- ------------------- 2/4 [google-ai-generativelanguage]\n",
      "      Successfully uninstalled google-ai-generativelanguage-0.6.15\n",
      "   -------------------- ------------------- 2/4 [google-ai-generativelanguage]\n",
      "   -------------------- ------------------- 2/4 [google-ai-generativelanguage]\n",
      "   -------------------- ------------------- 2/4 [google-ai-generativelanguage]\n",
      "   -------------------- ------------------- 2/4 [google-ai-generativelanguage]\n",
      "   -------------------- ------------------- 2/4 [google-ai-generativelanguage]\n",
      "   -------------------- ------------------- 2/4 [google-ai-generativelanguage]\n",
      "   -------------------- ------------------- 2/4 [google-ai-generativelanguage]\n",
      "   -------------------- ------------------- 2/4 [google-ai-generativelanguage]\n",
      "   -------------------- ------------------- 2/4 [google-ai-generativelanguage]\n",
      "   -------------------- ------------------- 2/4 [google-ai-generativelanguage]\n",
      "   -------------------- ------------------- 2/4 [google-ai-generativelanguage]\n",
      "   -------------------- ------------------- 2/4 [google-ai-generativelanguage]\n",
      "   -------------------- ------------------- 2/4 [google-ai-generativelanguage]\n",
      "   -------------------- ------------------- 2/4 [google-ai-generativelanguage]\n",
      "   -------------------- ------------------- 2/4 [google-ai-generativelanguage]\n",
      "   -------------------- ------------------- 2/4 [google-ai-generativelanguage]\n",
      "   -------------------- ------------------- 2/4 [google-ai-generativelanguage]\n",
      "   -------------------- ------------------- 2/4 [google-ai-generativelanguage]\n",
      "   -------------------- ------------------- 2/4 [google-ai-generativelanguage]\n",
      "   -------------------- ------------------- 2/4 [google-ai-generativelanguage]\n",
      "   -------------------- ------------------- 2/4 [google-ai-generativelanguage]\n",
      "   -------------------- ------------------- 2/4 [google-ai-generativelanguage]\n",
      "   -------------------- ------------------- 2/4 [google-ai-generativelanguage]\n",
      "   -------------------- ------------------- 2/4 [google-ai-generativelanguage]\n",
      "   -------------------- ------------------- 2/4 [google-ai-generativelanguage]\n",
      "   -------------------- ------------------- 2/4 [google-ai-generativelanguage]\n",
      "   -------------------- ------------------- 2/4 [google-ai-generativelanguage]\n",
      "   -------------------- ------------------- 2/4 [google-ai-generativelanguage]\n",
      "   -------------------- ------------------- 2/4 [google-ai-generativelanguage]\n",
      "   -------------------- ------------------- 2/4 [google-ai-generativelanguage]\n",
      "   -------------------- ------------------- 2/4 [google-ai-generativelanguage]\n",
      "   -------------------- ------------------- 2/4 [google-ai-generativelanguage]\n",
      "   -------------------- ------------------- 2/4 [google-ai-generativelanguage]\n",
      "   ------------------------------ --------- 3/4 [langchain-google-genai]\n",
      "   ---------------------------------------- 4/4 [langchain-google-genai]\n",
      "\n",
      "Successfully installed filetype-1.2.0 google-ai-generativelanguage-0.6.18 langchain-google-genai-2.1.4 pillow-11.2.1\n",
      "Note: you may need to restart the kernel to use updated packages.\n"
     ]
    },
    {
     "name": "stderr",
     "output_type": "stream",
     "text": [
      "  WARNING: Failed to remove contents in a temporary directory 'C:\\Users\\lukag\\AppData\\Local\\Programs\\Python\\Python311\\Lib\\site-packages\\~il'.\n",
      "  You can safely remove it manually.\n",
      "ERROR: pip's dependency resolver does not currently take into account all the packages that are installed. This behaviour is the source of the following dependency conflicts.\n",
      "google-generativeai 0.8.5 requires google-ai-generativelanguage==0.6.15, but you have google-ai-generativelanguage 0.6.18 which is incompatible.\n"
     ]
    }
   ],
   "source": [
    "%pip install --upgrade langchain-google-genai pillow\n"
   ]
  },
  {
   "cell_type": "code",
   "execution_count": 25,
   "id": "3790cc8e",
   "metadata": {},
   "outputs": [],
   "source": [
    "os.environ[\"GOOGLE_API_KEY\"] = api_key"
   ]
  },
  {
   "cell_type": "code",
   "execution_count": 28,
   "id": "380f5523",
   "metadata": {},
   "outputs": [],
   "source": [
    "from langchain_google_genai.chat_models import ChatGoogleGenerativeAI\n",
    "from langchain.chains import RetrievalQA\n",
    "\n",
    "# 1. Configura el retriever (igual que antes)\n",
    "retriever = vectorstore.as_retriever(search_kwargs={\"k\": 3})\n",
    "\n",
    "# 2. Instancia Gemini Pro (texto)\n",
    "llm = ChatGoogleGenerativeAI(model=\"gemini-2.0-flash\", temperature=0)\n",
    "\n",
    "# 3. Construye la cadena RAG\n",
    "qa_chain = RetrievalQA.from_chain_type(\n",
    "    llm=llm,\n",
    "    chain_type=\"stuff\",      # o 'map_reduce', 'refine', según necesites\n",
    "    retriever=retriever\n",
    ")\n",
    "\n",
    "\n"
   ]
  },
  {
   "cell_type": "code",
   "execution_count": 33,
   "id": "a027ad8d",
   "metadata": {},
   "outputs": [
    {
     "name": "stdout",
     "output_type": "stream",
     "text": [
      "Los documentos proporcionados son sobre diabetes. Uno de ellos es un apéndice con datos estadísticos sobre la prevalencia de diabetes en varios países de América, incluyendo datos de población, prevalencia de diabetes en porcentaje, y número de personas afectadas por área (rural, urbana) y por género y edad. El otro documento es un artículo sobre la definición, clasificación, diagnóstico, screening y prevención de la diabetes mellitus.\n"
     ]
    }
   ],
   "source": [
    "# 4. Función de consulta\n",
    "def answer_with_rag(prompt: str) -> str:\n",
    "    return qa_chain.run(prompt)\n",
    "\n",
    "# Ejemplo\n",
    "respuesta = answer_with_rag(\"¿de que son los documentos proporcionados?\")\n",
    "print(respuesta)"
   ]
  },
  {
   "cell_type": "markdown",
   "id": "9468860b-86a2-41df-af01-b2400cc985be",
   "metadata": {},
   "source": [
    "# Time to use LangChain to bring it all together"
   ]
  },
  {
   "cell_type": "markdown",
   "id": "8ba8a5e7-965d-4770-a12d-532aff50c4b5",
   "metadata": {},
   "source": [
    "<table style=\"margin: 0; text-align: left;\">\n",
    "    <tr>\n",
    "        <td style=\"width: 150px; height: 150px; vertical-align: middle;\">\n",
    "            <img src=\"../important.jpg\" width=\"150\" height=\"150\" style=\"display: block;\" />\n",
    "        </td>\n",
    "        <td>\n",
    "            <h2 style=\"color:#900;\">PLEASE READ ME! Ignoring the Deprecation Warning</h2>\n",
    "            <span style=\"color:#900;\">When you run the next cell, you will get a LangChainDeprecationWarning \n",
    "            about the simple way we use LangChain memory. They ask us to migrate to their new approach for memory. \n",
    "            I feel quite conflicted about this. The new approach involves moving to LangGraph and getting deep into their ecosystem.\n",
    "            There's a fair amount of learning and coding in LangGraph, frankly without much benefit in our case.<br/><br/>\n",
    "            I'm going to think about whether/how to incorporate it in the course, but for now please ignore the Depreciation Warning and\n",
    "            use the code as is; LangChain are not expected to remove ConversationBufferMemory any time soon.\n",
    "            </span>\n",
    "        </td>\n",
    "    </tr>\n",
    "</table>"
   ]
  },
  {
   "cell_type": "code",
   "execution_count": null,
   "id": "129c7d1e-0094-4479-9459-f9360b95f244",
   "metadata": {},
   "outputs": [],
   "source": [
    "# create a new Chat with OpenAI\n",
    "llm = ChatOpenAI(temperature=0.7, model_name=MODEL)\n",
    "\n",
    "# set up the conversation memory for the chat\n",
    "memory = ConversationBufferMemory(memory_key='chat_history', return_messages=True)\n",
    "\n",
    "# the retriever is an abstraction over the VectorStore that will be used during RAG\n",
    "retriever = vectorstore.as_retriever()\n",
    "\n",
    "# putting it together: set up the conversation chain with the GPT 4o-mini LLM, the vector store and memory\n",
    "conversation_chain = ConversationalRetrievalChain.from_llm(llm=llm, retriever=retriever, memory=memory)"
   ]
  },
  {
   "cell_type": "code",
   "execution_count": null,
   "id": "968e7bf2-e862-4679-a11f-6c1efb6ec8ca",
   "metadata": {},
   "outputs": [],
   "source": [
    "query = \"Can you describe Insurellm in a few sentences\"\n",
    "result = conversation_chain.invoke({\"question\":query})\n",
    "print(result[\"answer\"])"
   ]
  },
  {
   "cell_type": "code",
   "execution_count": null,
   "id": "e6eb99fb-33ec-4025-ab92-b634ede03647",
   "metadata": {},
   "outputs": [],
   "source": [
    "# set up a new conversation memory for the chat\n",
    "memory = ConversationBufferMemory(memory_key='chat_history', return_messages=True)\n",
    "\n",
    "# putting it together: set up the conversation chain with the GPT 4o-mini LLM, the vector store and memory\n",
    "conversation_chain = ConversationalRetrievalChain.from_llm(llm=llm, retriever=retriever, memory=memory)"
   ]
  },
  {
   "cell_type": "markdown",
   "id": "bbbcb659-13ce-47ab-8a5e-01b930494964",
   "metadata": {},
   "source": [
    "## Now we will bring this up in Gradio using the Chat interface -\n",
    "\n",
    "A quick and easy way to prototype a chat with an LLM"
   ]
  },
  {
   "cell_type": "code",
   "execution_count": null,
   "id": "c3536590-85c7-4155-bd87-ae78a1467670",
   "metadata": {},
   "outputs": [],
   "source": [
    "# Wrapping in a function - note that history isn't used, as the memory is in the conversation_chain\n",
    "\n",
    "def chat(message, history):\n",
    "    result = conversation_chain.invoke({\"question\": message})\n",
    "    return result[\"answer\"]"
   ]
  },
  {
   "cell_type": "code",
   "execution_count": null,
   "id": "b252d8c1-61a8-406d-b57a-8f708a62b014",
   "metadata": {},
   "outputs": [],
   "source": [
    "# And in Gradio:\n",
    "\n",
    "view = gr.ChatInterface(chat, type=\"messages\").launch(inbrowser=True)"
   ]
  },
  {
   "cell_type": "code",
   "execution_count": null,
   "id": "5435b2b9-935c-48cd-aaf3-73a837ecde49",
   "metadata": {},
   "outputs": [],
   "source": []
  }
 ],
 "metadata": {
  "kernelspec": {
   "display_name": "Python 3",
   "language": "python",
   "name": "python3"
  },
  "language_info": {
   "codemirror_mode": {
    "name": "ipython",
    "version": 3
   },
   "file_extension": ".py",
   "mimetype": "text/x-python",
   "name": "python",
   "nbconvert_exporter": "python",
   "pygments_lexer": "ipython3",
   "version": "3.11.9"
  }
 },
 "nbformat": 4,
 "nbformat_minor": 5
}
