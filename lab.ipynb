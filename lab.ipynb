{
 "cells": [
  {
   "cell_type": "markdown",
   "metadata": {},
   "source": [
    "# EDA"
   ]
  },
  {
   "cell_type": "code",
   "execution_count": 1,
   "metadata": {},
   "outputs": [],
   "source": [
    "import pandas as pd"
   ]
  },
  {
   "cell_type": "code",
   "execution_count": 2,
   "metadata": {},
   "outputs": [],
   "source": [
    "db = pd.read_csv('data/diabetic_data.csv')"
   ]
  },
  {
   "cell_type": "code",
   "execution_count": 3,
   "metadata": {},
   "outputs": [],
   "source": [
    "#Elimiar tambe medicaments on els valors son sempre els mateixos (pending)\n",
    "TO_PETAR = [\"diag_1\", \"diag_2\", \"diag_3\",\"weight\", \"payer_code\", \"medical_specialty\",\"diabetesMed\",\"change\",\"max_glu_serum\",\"A1Cresult\"]"
   ]
  },
  {
   "cell_type": "code",
   "execution_count": 30,
   "metadata": {},
   "outputs": [],
   "source": [
    "db2 = db.drop(TO_PETAR, axis=1)"
   ]
  },
  {
   "cell_type": "code",
   "execution_count": 35,
   "metadata": {},
   "outputs": [
    {
     "name": "stderr",
     "output_type": "stream",
     "text": [
      "C:\\Users\\USER\\AppData\\Local\\Temp\\ipykernel_5144\\429570954.py:2: FutureWarning: A value is trying to be set on a copy of a DataFrame or Series through chained assignment using an inplace method.\n",
      "The behavior will change in pandas 3.0. This inplace method will never work because the intermediate object on which we are setting values always behaves as a copy.\n",
      "\n",
      "For example, when doing 'df[col].method(value, inplace=True)', try using 'df.method({col: value}, inplace=True)' or df[col] = df[col].method(value) instead, to perform the operation inplace on the original object.\n",
      "\n",
      "\n",
      "  db2[\"race\"].replace(\"?\", pd.NA, inplace=True)\n"
     ]
    }
   ],
   "source": [
    "# Reemplazar los ? por NA en la columna race\n",
    "db2[\"race\"].replace(\"?\", pd.NA, inplace=True)"
   ]
  },
  {
   "cell_type": "code",
   "execution_count": 40,
   "metadata": {},
   "outputs": [
    {
     "name": "stdout",
     "output_type": "stream",
     "text": [
      "<class 'pandas.core.frame.DataFrame'>\n",
      "RangeIndex: 101766 entries, 0 to 101765\n",
      "Data columns (total 40 columns):\n",
      " #   Column                    Non-Null Count   Dtype \n",
      "---  ------                    --------------   ----- \n",
      " 0   encounter_id              101766 non-null  int64 \n",
      " 1   patient_nbr               101766 non-null  int64 \n",
      " 2   race                      99493 non-null   object\n",
      " 3   gender                    101766 non-null  object\n",
      " 4   age                       101766 non-null  object\n",
      " 5   admission_type_id         101766 non-null  int64 \n",
      " 6   discharge_disposition_id  101766 non-null  int64 \n",
      " 7   admission_source_id       101766 non-null  int64 \n",
      " 8   time_in_hospital          101766 non-null  int64 \n",
      " 9   num_lab_procedures        101766 non-null  int64 \n",
      " 10  num_procedures            101766 non-null  int64 \n",
      " 11  num_medications           101766 non-null  int64 \n",
      " 12  number_outpatient         101766 non-null  int64 \n",
      " 13  number_emergency          101766 non-null  int64 \n",
      " 14  number_inpatient          101766 non-null  int64 \n",
      " 15  number_diagnoses          101766 non-null  int64 \n",
      " 16  metformin                 101766 non-null  object\n",
      " 17  repaglinide               101766 non-null  object\n",
      " 18  nateglinide               101766 non-null  object\n",
      " 19  chlorpropamide            101766 non-null  object\n",
      " 20  glimepiride               101766 non-null  object\n",
      " 21  acetohexamide             101766 non-null  object\n",
      " 22  glipizide                 101766 non-null  object\n",
      " 23  glyburide                 101766 non-null  object\n",
      " 24  tolbutamide               101766 non-null  object\n",
      " 25  pioglitazone              101766 non-null  object\n",
      " 26  rosiglitazone             101766 non-null  object\n",
      " 27  acarbose                  101766 non-null  object\n",
      " 28  miglitol                  101766 non-null  object\n",
      " 29  troglitazone              101766 non-null  object\n",
      " 30  tolazamide                101766 non-null  object\n",
      " 31  examide                   101766 non-null  object\n",
      " 32  citoglipton               101766 non-null  object\n",
      " 33  insulin                   101766 non-null  object\n",
      " 34  glyburide-metformin       101766 non-null  object\n",
      " 35  glipizide-metformin       101766 non-null  object\n",
      " 36  glimepiride-pioglitazone  101766 non-null  object\n",
      " 37  metformin-rosiglitazone   101766 non-null  object\n",
      " 38  metformin-pioglitazone    101766 non-null  object\n",
      " 39  readmitted                101766 non-null  object\n",
      "dtypes: int64(13), object(27)\n",
      "memory usage: 31.1+ MB\n"
     ]
    }
   ],
   "source": [
    "db2.info()"
   ]
  },
  {
   "cell_type": "code",
   "execution_count": 39,
   "metadata": {},
   "outputs": [
    {
     "data": {
      "text/plain": [
       "age\n",
       "[70-80)     26068\n",
       "[60-70)     22483\n",
       "[50-60)     17256\n",
       "[80-90)     17197\n",
       "[40-50)      9685\n",
       "[30-40)      3775\n",
       "[90-100)     2793\n",
       "[20-30)      1657\n",
       "[10-20)       691\n",
       "[0-10)        161\n",
       "Name: count, dtype: int64"
      ]
     },
     "execution_count": 39,
     "metadata": {},
     "output_type": "execute_result"
    }
   ],
   "source": [
    "db2[\"age\"].value_counts()"
   ]
  },
  {
   "cell_type": "code",
   "execution_count": null,
   "metadata": {},
   "outputs": [],
   "source": [
    "from sklearn.preprocessing import KnnImputer\n"
   ]
  }
 ],
 "metadata": {
  "kernelspec": {
   "display_name": "Python 3",
   "language": "python",
   "name": "python3"
  },
  "language_info": {
   "codemirror_mode": {
    "name": "ipython",
    "version": 3
   },
   "file_extension": ".py",
   "mimetype": "text/x-python",
   "name": "python",
   "nbconvert_exporter": "python",
   "pygments_lexer": "ipython3",
   "version": "3.12.9"
  }
 },
 "nbformat": 4,
 "nbformat_minor": 2
}
