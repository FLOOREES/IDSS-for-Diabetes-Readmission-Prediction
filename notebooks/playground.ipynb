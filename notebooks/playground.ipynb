{
 "cells": [
  {
   "cell_type": "code",
   "execution_count": 1,
   "metadata": {},
   "outputs": [],
   "source": [
    "import pandas as pd\n",
    "\n",
    "df = pd.read_csv('../data/diabetic_data.csv')"
   ]
  },
  {
   "cell_type": "code",
   "execution_count": 3,
   "metadata": {},
   "outputs": [
    {
     "data": {
      "text/plain": [
       "(101766, 166)"
      ]
     },
     "execution_count": 3,
     "metadata": {},
     "output_type": "execute_result"
    }
   ],
   "source": [
    "df.shape"
   ]
  },
  {
   "cell_type": "code",
   "execution_count": 4,
   "metadata": {},
   "outputs": [
    {
     "data": {
      "text/plain": [
       "(101766, 1)"
      ]
     },
     "execution_count": 4,
     "metadata": {},
     "output_type": "execute_result"
    }
   ],
   "source": [
    "# Select all the columsn that start with 'diag'\n",
    "\n",
    "df_diag = df.filter(like='diag', axis=1)\n",
    "df_diag.head()\n",
    "df_diag.shape"
   ]
  },
  {
   "cell_type": "code",
   "execution_count": 6,
   "metadata": {},
   "outputs": [
    {
     "data": {
      "text/plain": [
       "['encounter_id',\n",
       " 'patient_nbr',\n",
       " 'age',\n",
       " 'time_in_hospital',\n",
       " 'num_lab_procedures',\n",
       " 'num_procedures',\n",
       " 'num_medications',\n",
       " 'number_outpatient',\n",
       " 'number_emergency',\n",
       " 'number_inpatient',\n",
       " 'number_diagnoses',\n",
       " 'readmitted',\n",
       " 'race_AfricanAmerican',\n",
       " 'race_Asian',\n",
       " 'race_Caucasian',\n",
       " 'race_Hispanic',\n",
       " 'race_Other',\n",
       " 'gender_Female',\n",
       " 'gender_Male',\n",
       " 'gender_Unknown/Invalid',\n",
       " 'admission_type_id_1',\n",
       " 'admission_type_id_2',\n",
       " 'admission_type_id_3',\n",
       " 'admission_type_id_4',\n",
       " 'admission_type_id_5',\n",
       " 'admission_type_id_6',\n",
       " 'admission_type_id_7',\n",
       " 'admission_type_id_8',\n",
       " 'discharge_disposition_id_1',\n",
       " 'discharge_disposition_id_2',\n",
       " 'discharge_disposition_id_3',\n",
       " 'discharge_disposition_id_4',\n",
       " 'discharge_disposition_id_5',\n",
       " 'discharge_disposition_id_6',\n",
       " 'discharge_disposition_id_7',\n",
       " 'discharge_disposition_id_8',\n",
       " 'discharge_disposition_id_9',\n",
       " 'discharge_disposition_id_10',\n",
       " 'discharge_disposition_id_11',\n",
       " 'discharge_disposition_id_12',\n",
       " 'discharge_disposition_id_13',\n",
       " 'discharge_disposition_id_14',\n",
       " 'discharge_disposition_id_15',\n",
       " 'discharge_disposition_id_16',\n",
       " 'discharge_disposition_id_17',\n",
       " 'discharge_disposition_id_18',\n",
       " 'discharge_disposition_id_19',\n",
       " 'discharge_disposition_id_20',\n",
       " 'discharge_disposition_id_22',\n",
       " 'discharge_disposition_id_23',\n",
       " 'discharge_disposition_id_24',\n",
       " 'discharge_disposition_id_25',\n",
       " 'discharge_disposition_id_27',\n",
       " 'discharge_disposition_id_28',\n",
       " 'admission_source_id_1',\n",
       " 'admission_source_id_2',\n",
       " 'admission_source_id_3',\n",
       " 'admission_source_id_4',\n",
       " 'admission_source_id_5',\n",
       " 'admission_source_id_6',\n",
       " 'admission_source_id_7',\n",
       " 'admission_source_id_8',\n",
       " 'admission_source_id_9',\n",
       " 'admission_source_id_10',\n",
       " 'admission_source_id_11',\n",
       " 'admission_source_id_13',\n",
       " 'admission_source_id_14',\n",
       " 'admission_source_id_17',\n",
       " 'admission_source_id_20',\n",
       " 'admission_source_id_22',\n",
       " 'admission_source_id_25',\n",
       " 'metformin_Down',\n",
       " 'metformin_No',\n",
       " 'metformin_Steady',\n",
       " 'metformin_Up',\n",
       " 'repaglinide_Down',\n",
       " 'repaglinide_No',\n",
       " 'repaglinide_Steady',\n",
       " 'repaglinide_Up',\n",
       " 'nateglinide_Down',\n",
       " 'nateglinide_No',\n",
       " 'nateglinide_Steady',\n",
       " 'nateglinide_Up',\n",
       " 'chlorpropamide_Down',\n",
       " 'chlorpropamide_No',\n",
       " 'chlorpropamide_Steady',\n",
       " 'chlorpropamide_Up',\n",
       " 'glimepiride_Down',\n",
       " 'glimepiride_No',\n",
       " 'glimepiride_Steady',\n",
       " 'glimepiride_Up',\n",
       " 'acetohexamide_No',\n",
       " 'acetohexamide_Steady',\n",
       " 'glipizide_Down',\n",
       " 'glipizide_No',\n",
       " 'glipizide_Steady',\n",
       " 'glipizide_Up',\n",
       " 'glyburide_Down',\n",
       " 'glyburide_No',\n",
       " 'glyburide_Steady',\n",
       " 'glyburide_Up',\n",
       " 'tolbutamide_No',\n",
       " 'tolbutamide_Steady',\n",
       " 'pioglitazone_Down',\n",
       " 'pioglitazone_No',\n",
       " 'pioglitazone_Steady',\n",
       " 'pioglitazone_Up',\n",
       " 'rosiglitazone_Down',\n",
       " 'rosiglitazone_No',\n",
       " 'rosiglitazone_Steady',\n",
       " 'rosiglitazone_Up',\n",
       " 'acarbose_Down',\n",
       " 'acarbose_No',\n",
       " 'acarbose_Steady',\n",
       " 'acarbose_Up',\n",
       " 'miglitol_Down',\n",
       " 'miglitol_No',\n",
       " 'miglitol_Steady',\n",
       " 'miglitol_Up',\n",
       " 'troglitazone_No',\n",
       " 'troglitazone_Steady',\n",
       " 'tolazamide_No',\n",
       " 'tolazamide_Steady',\n",
       " 'tolazamide_Up',\n",
       " 'examide_No',\n",
       " 'citoglipton_No',\n",
       " 'insulin_Down',\n",
       " 'insulin_No',\n",
       " 'insulin_Steady',\n",
       " 'insulin_Up',\n",
       " 'glyburide-metformin_Down',\n",
       " 'glyburide-metformin_No',\n",
       " 'glyburide-metformin_Steady',\n",
       " 'glyburide-metformin_Up',\n",
       " 'glipizide-metformin_No',\n",
       " 'glipizide-metformin_Steady',\n",
       " 'glimepiride-pioglitazone_No',\n",
       " 'glimepiride-pioglitazone_Steady',\n",
       " 'metformin-rosiglitazone_No',\n",
       " 'metformin-rosiglitazone_Steady',\n",
       " 'metformin-pioglitazone_No',\n",
       " 'metformin-pioglitazone_Steady',\n",
       " 'emb1_0',\n",
       " 'emb1_1',\n",
       " 'emb1_2',\n",
       " 'emb1_3',\n",
       " 'emb1_4',\n",
       " 'emb1_5',\n",
       " 'emb1_6',\n",
       " 'emb1_7',\n",
       " 'emb2_0',\n",
       " 'emb2_1',\n",
       " 'emb2_2',\n",
       " 'emb2_3',\n",
       " 'emb2_4',\n",
       " 'emb2_5',\n",
       " 'emb2_6',\n",
       " 'emb2_7',\n",
       " 'emb3_0',\n",
       " 'emb3_1',\n",
       " 'emb3_2',\n",
       " 'emb3_3',\n",
       " 'emb3_4',\n",
       " 'emb3_5',\n",
       " 'emb3_6',\n",
       " 'emb3_7']"
      ]
     },
     "execution_count": 6,
     "metadata": {},
     "output_type": "execute_result"
    }
   ],
   "source": [
    "# Print all the variables\n",
    "df.columns.tolist()"
   ]
  }
 ],
 "metadata": {
  "kernelspec": {
   "display_name": ".venv",
   "language": "python",
   "name": "python3"
  },
  "language_info": {
   "codemirror_mode": {
    "name": "ipython",
    "version": 3
   },
   "file_extension": ".py",
   "mimetype": "text/x-python",
   "name": "python",
   "nbconvert_exporter": "python",
   "pygments_lexer": "ipython3",
   "version": "3.10.6"
  }
 },
 "nbformat": 4,
 "nbformat_minor": 2
}
