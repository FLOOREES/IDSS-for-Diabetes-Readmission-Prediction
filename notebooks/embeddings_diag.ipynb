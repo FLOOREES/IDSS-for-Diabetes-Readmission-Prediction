{
 "cells": [
  {
   "cell_type": "code",
   "execution_count": 1,
   "metadata": {},
   "outputs": [],
   "source": [
    "import pandas as pd\n",
    "import json\n",
    "import numpy as np"
   ]
  },
  {
   "cell_type": "code",
   "execution_count": 2,
   "metadata": {},
   "outputs": [],
   "source": [
    "df = pd.read_csv(\"../data/diabetic_data_no_na_diag.csv\")\n",
    "\n",
    "with open(\"../data/icd9Chapters.json\", \"r\", encoding=\"utf-8\") as f:\n",
    "    idc9_chapters = json.load(f)\n",
    "    \n",
    "with open(\"../data/icd9Hierarchy.json\", \"r\", encoding=\"utf-8\") as f:\n",
    "    idc9_hierarchy = json.load(f)"
   ]
  },
  {
   "cell_type": "code",
   "execution_count": null,
   "metadata": {},
   "outputs": [],
   "source": [
    "#!pip install icd-mappings\n",
    "from icdmappings import Mapper\n",
    "mapper = Mapper()\n",
    "code = mapper.map('250',source='icd9', target='chapter')\n",
    "print(code)\n",
    "len(idc9_chapters)\n",
    "type(idc9_hierarchy)\n",
    "idc9_hierarchy[0]"
   ]
  },
  {
   "cell_type": "code",
   "execution_count": null,
   "metadata": {},
   "outputs": [],
   "source": [
    "'''\n",
    "{'icd9': '0010',\n",
    " 'descLong': 'Cholera due to vibrio cholerae',\n",
    " 'descShort': 'Cholera d/t vib cholerae',\n",
    " 'threedigit': '001',\n",
    " 'major': 'Cholera',\n",
    " 'subchapter': 'Intestinal Infectious Diseases',\n",
    " 'chapter': 'Infectious And Parasitic Diseases'}\n",
    " '''"
   ]
  },
  {
   "cell_type": "code",
   "execution_count": 3,
   "metadata": {},
   "outputs": [],
   "source": [
    "df['diag_1'] = df['diag_1'].apply(lambda x: '0' if pd.isna(x) else x)\n",
    "df['diag_2'] = df['diag_2'].apply(lambda x: '0' if pd.isna(x) else x)\n",
    "df['diag_3'] = df['diag_3'].apply(lambda x: '0' if pd.isna(x) else x)"
   ]
  },
  {
   "cell_type": "code",
   "execution_count": null,
   "metadata": {},
   "outputs": [
    {
     "name": "stdout",
     "output_type": "stream",
     "text": [
      "(916,)\n"
     ]
    }
   ],
   "source": [
    "from sklearn.preprocessing import LabelEncoder\n",
    "import json\n",
    "\n",
    "unique_codes = pd.concat([df['diag_1'], df['diag_2'], df['diag_3']]).unique()\n",
    "print(unique_codes.shape)\n",
    "le = LabelEncoder()\n",
    "le.fit(unique_codes)\n",
    "\n",
    "code_to_label = dict(zip(le.classes_, le.transform(le.classes_)))\n",
    "\n",
    "df['diag_1'] = le.transform(df['diag_1'])\n",
    "df['diag_2'] = le.transform(df['diag_2'])\n",
    "df['diag_3'] = le.transform(df['diag_3'])"
   ]
  },
  {
   "cell_type": "code",
   "execution_count": 34,
   "metadata": {},
   "outputs": [],
   "source": [
    "import json\n",
    "code_to_label = {k: int(v) for k, v in code_to_label.items()}\n",
    "with open(\"../data/diag_label_encoder.json\", \"w\") as f:\n",
    "    json.dump(code_to_label, f)"
   ]
  },
  {
   "cell_type": "code",
   "execution_count": 5,
   "metadata": {},
   "outputs": [],
   "source": [
    "def find_diag(idc9_hierarchy,code):\n",
    "    if code == '0':\n",
    "        return 'No diagnosis'\n",
    "    if not pd.isna(code):\n",
    "        code = str(code)\n",
    "        if len(code) == 1:\n",
    "            code = '00'+code\n",
    "        elif len(code) == 2:\n",
    "            code = '0'+code\n",
    "        if '.' in code:\n",
    "            code = code.replace('.','')\n",
    "            for d in idc9_hierarchy:\n",
    "                if d['icd9'] == code or d['icd9'] == code+'0':\n",
    "                    if 'subchapter' in d.keys():\n",
    "                        return {'specific':d['descLong'],'general':d['subchapter']+'. '+d['chapter']}\n",
    "                    else:\n",
    "                        return {'specific':d['descLong'],'general':d['chapter']}\n",
    "        else:\n",
    "            for d in idc9_hierarchy:\n",
    "                if d['threedigit'] == code:\n",
    "                    if 'subchapter' in d.keys():\n",
    "                        return {'specific':d['major'],'general':d['subchapter']+'. '+d['chapter']}\n",
    "                    else:\n",
    "                        return {'specific':d['major'],'general':d['chapter']}\n",
    "    else:\n",
    "        return 'No diagnosis'\n",
    "    \n",
    "    print(code, 'Not found')\n",
    "    return 'Not found'"
   ]
  },
  {
   "cell_type": "code",
   "execution_count": 6,
   "metadata": {},
   "outputs": [
    {
     "data": {
      "text/plain": [
       "{'specific': 'Diabetes mellitus',\n",
       " 'general': 'Diseases Of Other Endocrine Glands. Endocrine, Nutritional And Metabolic Diseases, And Immunity Disorders'}"
      ]
     },
     "execution_count": 6,
     "metadata": {},
     "output_type": "execute_result"
    }
   ],
   "source": [
    "find_diag(idc9_hierarchy,'250')"
   ]
  },
  {
   "cell_type": "code",
   "execution_count": 7,
   "metadata": {},
   "outputs": [
    {
     "name": "stderr",
     "output_type": "stream",
     "text": [
      "C:\\Users\\alexn\\AppData\\Roaming\\Python\\Python311\\site-packages\\spacy\\language.py:2195: FutureWarning: Possible set union at position 6328\n",
      "  deserializers[\"tokenizer\"] = lambda p: self.tokenizer.from_disk(  # type: ignore[union-attr]\n"
     ]
    }
   ],
   "source": [
    "import spacy\n",
    "nlp = spacy.load(\"en_core_sci_md\")"
   ]
  },
  {
   "cell_type": "code",
   "execution_count": 8,
   "metadata": {},
   "outputs": [
    {
     "name": "stdout",
     "output_type": "stream",
     "text": [
      "<class 'numpy.ndarray'> (200,)\n"
     ]
    }
   ],
   "source": [
    "doc = nlp(\"Diabetes mellitus\")\n",
    "embedding = doc.vector\n",
    "print(type(embedding),embedding.shape)  # (200,)"
   ]
  },
  {
   "cell_type": "code",
   "execution_count": 9,
   "metadata": {},
   "outputs": [],
   "source": [
    "def create_embedding(nlp,desc):\n",
    "    '''\n",
    "    desc must be: \n",
    "    \n",
    "    desc = {'specific': str,'general': str}\n",
    "    or\n",
    "    desc = str: 'No diag'\n",
    "\n",
    "    '''\n",
    "    if type(desc) == dict:\n",
    "        emb_specific = nlp(desc['specific']).vector\n",
    "        emb_general = nlp(desc['general']).vector\n",
    "\n",
    "        emb = 0.3 * emb_general + 0.7 * emb_specific\n",
    "\n",
    "        return emb\n",
    "    else:\n",
    "        return nlp(desc).vector"
   ]
  },
  {
   "cell_type": "code",
   "execution_count": 10,
   "metadata": {},
   "outputs": [],
   "source": [
    "label_to_embed = dict()\n",
    "for code in unique_codes:\n",
    "    desc = find_diag(idc9_hierarchy,code)\n",
    "    label_to_embed[code_to_label[code]] = create_embedding(nlp,desc)"
   ]
  },
  {
   "cell_type": "code",
   "execution_count": 27,
   "metadata": {},
   "outputs": [],
   "source": [
    "unique_emb = np.empty((0, 200))\n",
    "for k in sorted(label_to_embed.keys()):\n",
    "    unique_emb = np.vstack([unique_emb, label_to_embed[k]])"
   ]
  },
  {
   "cell_type": "code",
   "execution_count": 28,
   "metadata": {},
   "outputs": [],
   "source": [
    "from sklearn.decomposition import PCA\n",
    "from sklearn.manifold import TSNE\n",
    "\n",
    "#pca = PCA(n_components=8)\n",
    "tsne = TSNE(n_components=8,method='exact')\n",
    "\n",
    "#pca = pca.fit(train)\n",
    "red_emb = tsne.fit_transform(unique_emb)"
   ]
  },
  {
   "cell_type": "code",
   "execution_count": 30,
   "metadata": {},
   "outputs": [],
   "source": [
    "#GUARDAMOS LA MATRIZ DE EMBEDDINGS:\n",
    "np.save(\"../data/diag_embeddings.npy\", red_emb)\n",
    "#Para leer la matriz es:\n",
    "#red_emb = np.load(\"matriz.npy\")"
   ]
  },
  {
   "cell_type": "code",
   "execution_count": 31,
   "metadata": {},
   "outputs": [],
   "source": [
    "df.to_csv('../data/diabetic_data_no_na_diag_cod.csv', index=False)"
   ]
  }
 ],
 "metadata": {
  "kernelspec": {
   "display_name": "Python 3",
   "language": "python",
   "name": "python3"
  },
  "language_info": {
   "codemirror_mode": {
    "name": "ipython",
    "version": 3
   },
   "file_extension": ".py",
   "mimetype": "text/x-python",
   "name": "python",
   "nbconvert_exporter": "python",
   "pygments_lexer": "ipython3",
   "version": "3.11.5"
  }
 },
 "nbformat": 4,
 "nbformat_minor": 2
}
