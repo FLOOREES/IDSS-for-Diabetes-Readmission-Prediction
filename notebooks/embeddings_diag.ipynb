{
 "cells": [
  {
   "cell_type": "code",
   "execution_count": 2,
   "metadata": {},
   "outputs": [],
   "source": [
    "import pandas as pd\n",
    "import json\n",
    "import numpy as np"
   ]
  },
  {
   "cell_type": "code",
   "execution_count": 2,
   "metadata": {},
   "outputs": [],
   "source": [
    "df = pd.read_csv(\"IDSS-for-Diabetes-Readmission-Prediction/data/diabetic_data_no_na_2.csv\")\n",
    "\n",
    "with open(\"icd9Chapters.json\", \"r\", encoding=\"utf-8\") as f:\n",
    "    idc9_chapters = json.load(f)\n",
    "    \n",
    "with open(\"icd9Hierarchy.json\", \"r\", encoding=\"utf-8\") as f:\n",
    "    idc9_hierarchy = json.load(f)"
   ]
  },
  {
   "cell_type": "code",
   "execution_count": 3,
   "metadata": {},
   "outputs": [],
   "source": [
    "#!pip install icd-mappings\n",
    "from icdmappings import Mapper"
   ]
  },
  {
   "cell_type": "code",
   "execution_count": 4,
   "metadata": {},
   "outputs": [
    {
     "name": "stdout",
     "output_type": "stream",
     "text": [
      "3\n"
     ]
    }
   ],
   "source": [
    "mapper = Mapper()\n",
    "code = mapper.map('250',source='icd9', target='chapter')\n",
    "print(code)"
   ]
  },
  {
   "cell_type": "code",
   "execution_count": 5,
   "metadata": {},
   "outputs": [
    {
     "data": {
      "text/plain": [
       "{'icd9': '0010',\n",
       " 'descLong': 'Cholera due to vibrio cholerae',\n",
       " 'descShort': 'Cholera d/t vib cholerae',\n",
       " 'threedigit': '001',\n",
       " 'major': 'Cholera',\n",
       " 'subchapter': 'Intestinal Infectious Diseases',\n",
       " 'chapter': 'Infectious And Parasitic Diseases'}"
      ]
     },
     "execution_count": 5,
     "metadata": {},
     "output_type": "execute_result"
    }
   ],
   "source": [
    "len(idc9_chapters)\n",
    "type(idc9_hierarchy)\n",
    "idc9_hierarchy[0]"
   ]
  },
  {
   "cell_type": "code",
   "execution_count": 7,
   "metadata": {},
   "outputs": [],
   "source": [
    "def find_diag(idc9_hierarchy,code):\n",
    "    if not pd.isna(code):\n",
    "        code = str(code)\n",
    "        if len(code) == 1:\n",
    "            code = '00'+code\n",
    "        elif len(code) == 2:\n",
    "            code = '0'+code\n",
    "        if '.' in code:\n",
    "            code = code.replace('.','')\n",
    "            for d in idc9_hierarchy:\n",
    "                if d['icd9'] == code or d['icd9'] == code+'0':\n",
    "                    if 'subchapter' in d.keys():\n",
    "                        return {'specific':d['descLong'],'general':d['subchapter']+'. '+d['chapter']}\n",
    "                    else:\n",
    "                        return {'specific':d['descLong'],'general':d['chapter']}\n",
    "        else:\n",
    "            for d in idc9_hierarchy:\n",
    "                if d['threedigit'] == code:\n",
    "                    if 'subchapter' in d.keys():\n",
    "                        return {'specific':d['major'],'general':d['subchapter']+'. '+d['chapter']}\n",
    "                    else:\n",
    "                        return {'specific':d['major'],'general':d['chapter']}\n",
    "    else:\n",
    "        return 'No diag'\n",
    "    \n",
    "    print(code, 'Not found')\n",
    "    return 'Not found'"
   ]
  },
  {
   "cell_type": "code",
   "execution_count": 8,
   "metadata": {},
   "outputs": [
    {
     "data": {
      "text/plain": [
       "{'specific': 'Diabetes with ketoacidosis, type II or unspecified type, not stated as uncontrolled',\n",
       " 'general': 'Diseases Of Other Endocrine Glands. Endocrine, Nutritional And Metabolic Diseases, And Immunity Disorders'}"
      ]
     },
     "execution_count": 8,
     "metadata": {},
     "output_type": "execute_result"
    }
   ],
   "source": [
    "find_diag(idc9_hierarchy,'250.1')"
   ]
  },
  {
   "cell_type": "code",
   "execution_count": 9,
   "metadata": {},
   "outputs": [],
   "source": [
    "df['desc_diag_1'] = df['diag_1'].apply(lambda x: find_diag(idc9_hierarchy,x))\n",
    "df['desc_diag_2'] = df['diag_2'].apply(lambda x: find_diag(idc9_hierarchy,x))\n",
    "df['desc_diag_3'] = df['diag_3'].apply(lambda x: find_diag(idc9_hierarchy,x))"
   ]
  },
  {
   "cell_type": "code",
   "execution_count": 10,
   "metadata": {},
   "outputs": [
    {
     "data": {
      "text/plain": [
       "{'specific': 'Secondary malignant neoplasm of respiratory and digestive systems',\n",
       " 'general': 'Malignant Neoplasm Of Other And Unspecified Sites. Neoplasms'}"
      ]
     },
     "execution_count": 10,
     "metadata": {},
     "output_type": "execute_result"
    }
   ],
   "source": [
    "df['desc_diag_1'][2]"
   ]
  },
  {
   "cell_type": "code",
   "execution_count": null,
   "metadata": {},
   "outputs": [],
   "source": [
    "import spacy\n",
    "nlp = spacy.load(\"en_core_sci_md\")"
   ]
  },
  {
   "cell_type": "code",
   "execution_count": 23,
   "metadata": {},
   "outputs": [
    {
     "name": "stdout",
     "output_type": "stream",
     "text": [
      "<class 'numpy.ndarray'> (200,)\n"
     ]
    }
   ],
   "source": [
    "doc = nlp(\"Diabetes mellitus\")\n",
    "embedding = doc.vector\n",
    "print(type(embedding),embedding.shape)  # (200,)"
   ]
  },
  {
   "cell_type": "code",
   "execution_count": 28,
   "metadata": {},
   "outputs": [],
   "source": [
    "def create_embedding(nlp,desc):\n",
    "    '''\n",
    "    desc must be: \n",
    "    \n",
    "    desc = {'specific': str,'general': str}\n",
    "    or\n",
    "    desc = str: 'No diag'\n",
    "\n",
    "    '''\n",
    "    if type(desc) == dict:\n",
    "        emb_specific = nlp(desc['specific']).vector\n",
    "        emb_general = nlp(desc['general']).vector\n",
    "\n",
    "        emb = 0.3 * emb_general + 0.7 * emb_specific\n",
    "\n",
    "        return emb\n",
    "    else:\n",
    "        return nlp(desc).vector"
   ]
  },
  {
   "cell_type": "code",
   "execution_count": 29,
   "metadata": {},
   "outputs": [],
   "source": [
    "df['emb_daig_1'] = df['desc_diag_1'].apply(lambda x: create_embedding(nlp,x))\n",
    "df['emb_daig_2'] = df['desc_diag_2'].apply(lambda x: create_embedding(nlp,x))\n",
    "df['emb_daig_3'] = df['desc_diag_3'].apply(lambda x: create_embedding(nlp,x))"
   ]
  },
  {
   "cell_type": "code",
   "execution_count": 30,
   "metadata": {},
   "outputs": [],
   "source": [
    "df.to_csv('diabetic_data_embed_200.csv', index=False)"
   ]
  },
  {
   "cell_type": "code",
   "execution_count": 65,
   "metadata": {},
   "outputs": [],
   "source": [
    "all_emb = np.vstack([np.vstack(df['emb_daig_1'].values), np.vstack(df['emb_daig_2'].values), np.vstack(df['emb_daig_3'].values)])\n",
    "unique_emb = np.unique(all_emb, axis=0)"
   ]
  },
  {
   "cell_type": "code",
   "execution_count": null,
   "metadata": {},
   "outputs": [],
   "source": [
    "from sklearn.decomposition import PCA\n",
    "from sklearn.manifold import TSNE\n",
    "\n",
    "# Supongamos que `embedding` es un arreglo de 200 dimensiones (por ejemplo, un numpy array)\n",
    "all_emb = np.vstack([np.vstack(df['emb_daig_1'].values), np.vstack(df['emb_daig_2'].values), np.vstack(df['emb_daig_3'].values)])\n",
    "unique_emb = np.unique(all_emb, axis=0)\n",
    "#pca = PCA(n_components=8)\n",
    "tsne = TSNE(n_components=8,method='exact')\n",
    "\n",
    "#pca = pca.fit(train)\n",
    "red_emb = tsne.fit_transform(unique_emb)"
   ]
  },
  {
   "cell_type": "code",
   "execution_count": 71,
   "metadata": {},
   "outputs": [],
   "source": [
    "map_emb = {tuple(unique_emb[i]):red_emb[i] for i in range(len(unique_emb))}"
   ]
  },
  {
   "cell_type": "code",
   "execution_count": 72,
   "metadata": {},
   "outputs": [],
   "source": [
    "df['red_emb_daig_1'] = df['emb_daig_1'].apply(tuple).map(map_emb)\n",
    "df['red_emb_daig_2'] = df['emb_daig_2'].apply(tuple).map(map_emb)\n",
    "df['red_emb_daig_3'] = df['emb_daig_3'].apply(tuple).map(map_emb)"
   ]
  },
  {
   "cell_type": "code",
   "execution_count": 73,
   "metadata": {},
   "outputs": [],
   "source": [
    "df.to_csv('diabetic_data_embed_200_and_8.csv', index=False)"
   ]
  },
  {
   "cell_type": "code",
   "execution_count": 77,
   "metadata": {},
   "outputs": [],
   "source": [
    "df = df.drop(['emb_daig_1', 'emb_daig_2', 'emb_daig_3'], axis=1)"
   ]
  },
  {
   "cell_type": "code",
   "execution_count": 78,
   "metadata": {},
   "outputs": [],
   "source": [
    "df.to_csv('diabetic_data_embed_8.csv', index=False)"
   ]
  }
 ],
 "metadata": {
  "kernelspec": {
   "display_name": "Python 3",
   "language": "python",
   "name": "python3"
  },
  "language_info": {
   "codemirror_mode": {
    "name": "ipython",
    "version": 3
   },
   "file_extension": ".py",
   "mimetype": "text/x-python",
   "name": "python",
   "nbconvert_exporter": "python",
   "pygments_lexer": "ipython3",
   "version": "3.10.6"
  }
 },
 "nbformat": 4,
 "nbformat_minor": 2
}
